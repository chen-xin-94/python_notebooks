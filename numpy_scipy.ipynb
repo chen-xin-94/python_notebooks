{
 "cells": [
  {
   "cell_type": "markdown",
   "metadata": {},
   "source": [
    "## numpy"
   ]
  },
  {
   "cell_type": "markdown",
   "metadata": {},
   "source": [
    "### 2d array indexing\n",
    "https://stackoverflow.com/questions/16396141/python-numpy-2d-array-indexing"
   ]
  },
  {
   "cell_type": "markdown",
   "metadata": {},
   "source": [
    "### Broadcasting Rules\n",
    "\n",
    "https://cs231n.github.io/python-numpy-tutorial/#broadcasting\n",
    "\n",
    "https://numpy.org/doc/stable/user/basics.broadcasting.html"
   ]
  },
  {
   "cell_type": "markdown",
   "metadata": {},
   "source": [
    "When operating on two arrays, NumPy compares their shapes element-wise. It starts with the trailing (i.e. rightmost) dimensions and works its way left. Two dimensions are compatible when\n",
    "\n",
    "1. they are equal, or\n",
    "\n",
    "2. one of them is 1\n",
    "\n",
    "If these conditions are not met, a ValueError: operands could not be broadcast together exception is thrown, indicating that the arrays have incompatible shapes. The size of the resulting array is the size that is not 1 along each axis of the inputs."
   ]
  },
  {
   "cell_type": "markdown",
   "metadata": {},
   "source": [
    "When either of the dimensions compared is one, the other is used. In other words, dimensions with size 1 are stretched or “copied” to match the other."
   ]
  },
  {
   "cell_type": "markdown",
   "metadata": {},
   "source": [
    ">>> x = np.arange(4)\n",
    ">>> xx = x.reshape(4,1)\n",
    ">>> y = np.ones(5)\n",
    ">>> z = np.ones((3,4))\n",
    "\n",
    ">>> x.shape\n",
    "(4,)\n",
    "\n",
    ">>> y.shape\n",
    "(5,)\n",
    "\n",
    ">>> x + y\n",
    "ValueError: operands could not be broadcast together with shapes (4,) (5,)\n",
    "\n",
    ">>> xx.shape\n",
    "(4, 1)\n",
    "\n",
    ">>> y.shape\n",
    "(5,)\n",
    "\n",
    ">>> (xx + y).shape\n",
    "(4, 5)\n",
    "\n",
    ">>> xx + y\n",
    "array([[ 1.,  1.,  1.,  1.,  1.],\n",
    "       [ 2.,  2.,  2.,  2.,  2.],\n",
    "       [ 3.,  3.,  3.,  3.,  3.],\n",
    "       [ 4.,  4.,  4.,  4.,  4.]])\n",
    "\n",
    ">>> x.shape\n",
    "(4,)\n",
    "\n",
    ">>> z.shape\n",
    "(3, 4)\n",
    "\n",
    ">>> (x + z).shape\n",
    "(3, 4)\n",
    "\n",
    ">>> x + z\n",
    "array([[ 1.,  2.,  3.,  4.],\n",
    "       [ 1.,  2.,  3.,  4.],\n",
    "       [ 1.,  2.,  3.,  4.]])"
   ]
  },
  {
   "cell_type": "markdown",
   "metadata": {},
   "source": [
    "### All about dimension Dimensional conversion"
   ]
  },
  {
   "cell_type": "code",
   "execution_count": null,
   "metadata": {},
   "outputs": [],
   "source": []
  },
  {
   "cell_type": "markdown",
   "metadata": {},
   "source": [
    "#### np.column_stack"
   ]
  },
  {
   "cell_type": "code",
   "execution_count": null,
   "metadata": {},
   "outputs": [],
   "source": [
    "# np.column_stack: ((N,fa), (N,fb)) -> (N,fa+fb)\n",
    "N = 10\n",
    "fa = 2\n",
    "fb = 3\n",
    "a = np.random.random((N, fa))  # shape:(N,fa)\n",
    "b = np.random.random((N, fb))  # shape:(N,fb)\n",
    "ab = np.column_stack((a, b))  # shape:(N,fa+fb)"
   ]
  },
  {
   "cell_type": "markdown",
   "metadata": {},
   "source": [
    "### remove an index from an array"
   ]
  },
  {
   "cell_type": "code",
   "execution_count": null,
   "metadata": {},
   "outputs": [],
   "source": [
    "def remove_from_list(indices, index_to_remove):\n",
    "    \"\"\"\n",
    "    Helper function for get_top_covariances to remove an index from an array. \n",
    "    Parameter: indices, a list of indices as a numpy array of shape (n_indices)\n",
    "    Returns: the numpy array of indices in the same order without index_to_remove\n",
    "    \"\"\"\n",
    "    # Hint: There are many ways to do this, but please don't edit the list in-place.\n",
    "    # If you're not very familiar with array indexing, you may find this page helpful:\n",
    "    # https://numpy.org/devdocs/reference/arrays.indexing.html (especially boolean indexing)\n",
    "    ### START CODE HERE ###\n",
    "    new_indices = np.delete(indices, np.where(indices == index_to_remove)) \n",
    "    ### END CODE HERE ###\n",
    "    return new_indices\n",
    "assert remove_from_list(np.array([3, 2, 1, 0]), 1).tolist() == [3, 2, 0]\n",
    "print(\"remove_from_list works!\")"
   ]
  },
  {
   "cell_type": "markdown",
   "metadata": {},
   "source": [
    "### set_printoptions"
   ]
  },
  {
   "cell_type": "code",
   "execution_count": null,
   "metadata": {},
   "outputs": [],
   "source": [
    "np.set_printoptions(formatter={'float': '{: 0.3g}'.format})"
   ]
  },
  {
   "cell_type": "code",
   "execution_count": null,
   "metadata": {},
   "outputs": [],
   "source": []
  },
  {
   "cell_type": "code",
   "execution_count": null,
   "metadata": {},
   "outputs": [],
   "source": []
  },
  {
   "cell_type": "markdown",
   "metadata": {},
   "source": [
    "## scipy"
   ]
  },
  {
   "cell_type": "markdown",
   "metadata": {},
   "source": [
    "### scipy.stats"
   ]
  },
  {
   "cell_type": "markdown",
   "metadata": {},
   "source": [
    "cdf, pdf ...\n",
    "\n",
    "See excercise solutinos of the course Data Literacy "
   ]
  },
  {
   "cell_type": "markdown",
   "metadata": {},
   "source": [
    "### scipy.optimize"
   ]
  },
  {
   "cell_type": "code",
   "execution_count": null,
   "metadata": {},
   "outputs": [
    {
     "data": {
      "text/plain": [
       "      fun: 30655764445.03536\n",
       " hess_inv: array([[ 2.70816104e-22, -9.36119867e-20,  0.00000000e+00],\n",
       "       [-9.36119867e-20,  3.27613090e-17,  0.00000000e+00],\n",
       "       [ 0.00000000e+00,  0.00000000e+00,  1.00000000e+00]])\n",
       "      jac: array([-1.12122651e+16, -4.58484020e+13,  0.00000000e+00])\n",
       "  message: 'Desired error not necessarily achieved due to precision loss.'\n",
       "     nfev: 794\n",
       "      nit: 114\n",
       "     njev: 196\n",
       "   status: 2\n",
       "  success: False\n",
       "        x: array([1.28988756e-06, 1.87454691e-02, 1.00000000e+00])"
      ]
     },
     "metadata": {},
     "output_type": "display_data"
    }
   ],
   "source": [
    "#### An example\n",
    "\n",
    "# define an arbitary function with parameters we want to optimize\n",
    "def exp_regression(x, a, b, c):\n",
    "    return(a * np.exp(b * x) + c)\n",
    "\n",
    "# define a loss function\n",
    "def l2_norm(y, y_hat):\n",
    "    return(np.sqrt(np.sum((y - y_hat)**2)))\n",
    "\n",
    "# objective function\n",
    "def func(coef, X, y):\n",
    "    a_, b_, c_ = coef\n",
    "    y_pred = exp_regression(\n",
    "        X, a_, b_, c_\n",
    "    )\n",
    "    obj = l2_norm(y, y_pred)\n",
    "    return obj\n",
    "\n",
    "# data\n",
    "args = (X, y)\n",
    "\n",
    "# initialized parameters\n",
    "coef = np.array([0.12, 0.13e-1, 1])\n",
    "\n",
    "opt_res = scipy.optimize.minimize(\n",
    "    func,\n",
    "    coef,\n",
    "    # method=\"Nelder-Mead\",\n",
    "    method=\"BFGS\",\n",
    "    options={\n",
    "        \"maxiter\": 10000,\n",
    "    },\n",
    "    args=args,\n",
    ")\n",
    "\n",
    "opt_res\n",
    "\n",
    "# get the optimized parameters\n",
    "# coef = opt_res.x "
   ]
  },
  {
   "cell_type": "code",
   "execution_count": null,
   "metadata": {},
   "outputs": [],
   "source": []
  }
 ],
 "metadata": {
  "language_info": {
   "name": "python"
  },
  "orig_nbformat": 4
 },
 "nbformat": 4,
 "nbformat_minor": 2
}
