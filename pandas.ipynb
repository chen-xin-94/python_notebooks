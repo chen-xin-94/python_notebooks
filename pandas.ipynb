{
 "cells": [
  {
   "cell_type": "markdown",
   "metadata": {},
   "source": [
    "## pandas"
   ]
  },
  {
   "cell_type": "markdown",
   "metadata": {},
   "source": [
    "See excercise solutinos of the course Data Literacy "
   ]
  },
  {
   "cell_type": "markdown",
   "metadata": {},
   "source": [
    "### Convert categorical columns to dummy columns"
   ]
  },
  {
   "cell_type": "code",
   "execution_count": null,
   "metadata": {},
   "outputs": [],
   "source": [
    "# Load data into Pandas\n",
    "data = pd.read_csv(\n",
    "  'mortgage-small.csv', \n",
    "  index_col=False,\n",
    "  dtype=COLUMN_NAMES # COLUMN_NAMES is a dict with key as column names and value as dtypes\n",
    ")\n",
    "data = data.dropna()\n",
    "data = shuffle(data, random_state=2)\n",
    "# Convert categorical columns to dummy columns\n",
    "dummy_columns = list(data.dtypes[data.dtypes == 'category'].index)\n",
    "data = pd.get_dummies(data, columns=dummy_columns)"
   ]
  },
  {
   "cell_type": "markdown",
   "metadata": {},
   "source": [
    "### loc\n",
    "It also allows you to slice columns (df.loc[:, 'C':'F']), select a single row (df.loc[5]), and select a list of rows (df.loc[[1, 2, 5]]).\n",
    " \n",
    "diff betwwen loc and others: https://stackoverflow.com/questions/48409128/what-is-the-difference-between-using-loc-and-using-just-square-brackets-to-filte"
   ]
  },
  {
   "cell_type": "markdown",
   "metadata": {},
   "source": [
    "### drop"
   ]
  },
  {
   "cell_type": "code",
   "execution_count": null,
   "metadata": {},
   "outputs": [],
   "source": [
    "# https://www.kaggle.com/pmarcelino/comprehensive-data-exploration-with-python?scriptVersionId=19403046&cellId=41\n",
    "#  dealing with missing data\n",
    "total = df_train.isnull().sum().sort_values(ascending=False)\n",
    "percent = (df_train.isnull().sum()/df_train.isnull().count()).sort_values(ascending=False)\n",
    "missing_data = pd.concat([total, percent], axis=1, keys=['Total', 'Percent'])\n",
    "\n",
    "# drop entire columns when there are more than 1 missing data\n",
    "df_train = df_train.drop((missing_data[missing_data['Total'] > 1]).index,1)\n",
    "\n",
    "# drop by index: only drop the row with entry 'Electrical' missing\n",
    "df_train = df_train.drop(df_train.loc[df_train['Electrical'].isnull()].index)\n",
    "\n",
    "# just checking that there's no missing data missing...\n",
    "df_train.isnull().sum().max() "
   ]
  }
 ],
 "metadata": {
  "language_info": {
   "name": "python"
  },
  "orig_nbformat": 4
 },
 "nbformat": 4,
 "nbformat_minor": 2
}
