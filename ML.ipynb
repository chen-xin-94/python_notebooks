{
 "cells": [
  {
   "cell_type": "markdown",
   "source": [
    "# Machine Learning in Python"
   ],
   "metadata": {}
  },
  {
   "cell_type": "markdown",
   "source": [
    "## Feature Engineering"
   ],
   "metadata": {}
  },
  {
   "cell_type": "markdown",
   "source": [
    "### Dimensionality Reduction"
   ],
   "metadata": {}
  },
  {
   "cell_type": "markdown",
   "source": [
    "- https://colab.research.google.com/drive/1lJy-2Mbu49EfXCInlhhffOeyJnkZz_yA\r\n",
    "    - Manually designed features\r\n",
    "    - Define the model using tensorflow feature_columns\r\n",
    "    - Use Lambda layers to perform feature engineering on some of these features.\r\n",
    "- https://colab.research.google.com/drive/18P5OgouVheTrZO69L_kgwYdnel_dlCKn\r\n",
    "    - Use Principal Component Analysis (**PCA**) to reduce the dimensionality of a dataset that classifies celestial bodies.\r\n",
    "    - Use Single Value Decomposition (**SVD**) to create low level representations of images of handwritten digits.\r\n",
    "    - Use Non-negative Matrix Factorization (**NMF**) to segment text into topics.\r\n",
    "\r\n"
   ],
   "metadata": {}
  },
  {
   "cell_type": "markdown",
   "source": [
    "### Feature Selection"
   ],
   "metadata": {}
  },
  {
   "cell_type": "markdown",
   "source": [
    "- https://github.com/chen-xin-94/Machine-Learning-Engineering-for-Production-MLOps-Specialization/blob/master/Machine_Learning_Data_Lifecycle_in_Production/C2W2/Labs/C2_W2_Lab_3_Feature_Selection.ipynb\r\n",
    "    - Comparison of different basic feature selection methods\r\n",
    "    - from sklearn.feature_selection import RFE, SelectKBest, SelectFromModel, chi2, f_classif"
   ],
   "metadata": {}
  }
 ],
 "metadata": {
  "orig_nbformat": 4,
  "language_info": {
   "name": "python"
  }
 },
 "nbformat": 4,
 "nbformat_minor": 2
}