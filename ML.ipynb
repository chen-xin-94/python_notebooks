{
 "cells": [
  {
   "cell_type": "markdown",
   "source": [
    "# Machine Learning in Python"
   ],
   "metadata": {}
  },
  {
   "cell_type": "markdown",
   "source": [
    "## Feature Engineering"
   ],
   "metadata": {}
  },
  {
   "cell_type": "markdown",
   "source": [
    "### Feature Selection"
   ],
   "metadata": {}
  },
  {
   "cell_type": "markdown",
   "source": [
    "- https://github.com/chen-xin-94/Machine-Learning-Engineering-for-Production-MLOps-Specialization/blob/master/Machine_Learning_Data_Lifecycle_in_Production/C2W2/Labs/C2_W2_Lab_3_Feature_Selection.ipynb\r\n",
    "    - Comparison of different basic feature selection methods\r\n",
    "    - from sklearn.feature_selection import RFE, SelectKBest, SelectFromModel, chi2, f_classif"
   ],
   "metadata": {}
  }
 ],
 "metadata": {
  "orig_nbformat": 4,
  "language_info": {
   "name": "python"
  }
 },
 "nbformat": 4,
 "nbformat_minor": 2
}