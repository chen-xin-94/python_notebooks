{
 "cells": [
  {
   "cell_type": "markdown",
   "metadata": {},
   "source": [
    "## Built-in Functions"
   ]
  },
  {
   "cell_type": "markdown",
   "metadata": {},
   "source": [
    "### io.BytesIO()\n",
    "a very fast way to write binary data into memory\n",
    "\n",
    "- Explanation: \n",
    "https://medium.com/swlh/python-stringio-and-bytesio-compared-with-open-c0e99b9def31\n",
    "- Examples:\n",
    "    - read and write  \n",
    "    https://stackoverflow.com/questions/53485708/how-the-write-read-and-getvalue-methods-of-python-io-bytesio-work\n",
    "    - for image  \n",
    "    shown below"
   ]
  },
  {
   "cell_type": "code",
   "execution_count": 12,
   "metadata": {
    "scrolled": false
   },
   "outputs": [
    {
     "data": {
      "image/png": "[encoded data removed]",
      "text/plain": [
       "<Figure size 432x288 with 1 Axes>"
      ]
     },
     "metadata": {
      "needs_background": "light"
     },
     "output_type": "display_data"
    }
   ],
   "source": [
    "# Example 2\n",
    "import matplotlib.pyplot as plt\n",
    "import numpy as np\n",
    "import io\n",
    "from PIL import Image\n",
    "\n",
    "images = []\n",
    "x = np.random.random(size=(28,28))\n",
    "plt.imshow(x)\n",
    "\n",
    "# Save the figure\n",
    "buf = io.BytesIO()\n",
    "plt.savefig(buf, format='png')\n",
    "buf.seek(0) # go to the start of the stream\n",
    "image = Image.open(buf)\n",
    "images.append(np.array(image))"
   ]
  },
  {
   "cell_type": "markdown",
   "metadata": {},
   "source": [
    "### vars()\n",
    "Python function `vars()` will allow you to use a for loop to define and set multiple variables with a similar name, such as var1, var2, var3.  "
   ]
  },
  {
   "cell_type": "markdown",
   "metadata": {},
   "source": [
    "Python classes have an attribute called `__dict__`.\n",
    "- `__dict__` is a Python dictionary that contains the object's instance variables and values as key value pairs.\n",
    "\n",
    "If you call `vars()` and pass in an object, it will call the object's `__dict__` attribute, which is a Python dictionary containing the object's instance variables and their values as ke"
   ]
  },
  {
   "cell_type": "code",
   "execution_count": 4,
   "metadata": {},
   "outputs": [
    {
     "name": "stdout",
     "output_type": "stream",
     "text": [
      "{'var1': 1}\n",
      "{'var1': 1}\n"
     ]
    }
   ],
   "source": [
    "# Example\n",
    "class MyClass:\n",
    "    def __init__(self):\n",
    "        self.var1 = 1\n",
    "\n",
    "my_obj = MyClass()\n",
    "\n",
    "print(my_obj.__dict__)\n",
    "print(vars(my_obj))"
   ]
  },
  {
   "cell_type": "code",
   "execution_count": 5,
   "metadata": {},
   "outputs": [
    {
     "data": {
      "text/plain": [
       "{'var1': 1, 'var2': 2}"
      ]
     },
     "execution_count": 5,
     "metadata": {},
     "output_type": "execute_result"
    }
   ],
   "source": [
    "# Add a new instance variable and give it a value\n",
    "my_obj.var2 = 2\n",
    "\n",
    "# Calls vars() again to see the object's instance variables\n",
    "vars(my_obj)"
   ]
  },
  {
   "cell_type": "code",
   "execution_count": 6,
   "metadata": {},
   "outputs": [
    {
     "data": {
      "text/plain": [
       "{'var1': 1, 'var2': 2, 'var3': 3}"
      ]
     },
     "execution_count": 6,
     "metadata": {},
     "output_type": "execute_result"
    }
   ],
   "source": [
    "# Call vars, passing in the object.  Then access the __dict__ dictionary using square brackets\n",
    "vars(my_obj)['var3'] = 3\n",
    "\n",
    "# Call vars() to see the object's instance variables\n",
    "vars(my_obj)"
   ]
  },
  {
   "cell_type": "markdown",
   "metadata": {},
   "source": [
    "Notice that when using vars(), you can now pass in the name of the variable var3 as a string.\n",
    "\n",
    "What if you plan to use several variables that are similarly named (var4, var5 ... var9) and wanted a convenient way to access them by incrementing a number?\n",
    "\n",
    "Try this："
   ]
  },
  {
   "cell_type": "code",
   "execution_count": 7,
   "metadata": {},
   "outputs": [
    {
     "data": {
      "text/plain": [
       "{'var1': 1,\n",
       " 'var2': 2,\n",
       " 'var3': 3,\n",
       " 'var4': 0,\n",
       " 'var5': 0,\n",
       " 'var6': 0,\n",
       " 'var7': 0,\n",
       " 'var8': 0,\n",
       " 'var9': 0}"
      ]
     },
     "execution_count": 7,
     "metadata": {},
     "output_type": "execute_result"
    }
   ],
   "source": [
    "# Use a for loop to increment the index 'i'\n",
    "for i in range(4,10):\n",
    "    # Format a string that is var\n",
    "    vars(my_obj)[f'var{i}'] = 0\n",
    "    \n",
    "# View the object's instance variables!\n",
    "vars(my_obj)"
   ]
  },
  {
   "cell_type": "code",
   "execution_count": null,
   "metadata": {},
   "outputs": [],
   "source": []
  },
  {
   "cell_type": "markdown",
   "metadata": {},
   "source": [
    "## Utils"
   ]
  },
  {
   "cell_type": "markdown",
   "metadata": {},
   "source": [
    "### Various ways of passing in the inputs "
   ]
  },
  {
   "cell_type": "code",
   "execution_count": 1,
   "metadata": {},
   "outputs": [
    {
     "name": "stdout",
     "output_type": "stream",
     "text": [
      "When passing in args=list_of_inputs:\n",
      "number of arguments passed is 2\n",
      "\n",
      "When passing in args=(list_of_inputs)\n",
      "number of arguments passed is 2\n",
      "\n",
      "When passing in args=(list_of_inputs,)\n",
      "number of arguments passed is 1\n"
     ]
    }
   ],
   "source": [
    "def fun1(args=()):\n",
    "    print(f\"number of arguments passed is {len(args)}\")\n",
    "    \n",
    "    \n",
    "list_of_inputs = [1,2]\n",
    "print(\"When passing in args=list_of_inputs:\")\n",
    "fun1(args=list_of_inputs)\n",
    "print()\n",
    "print(\"When passing in args=(list_of_inputs)\")\n",
    "fun1(args=(list_of_inputs))\n",
    "print()\n",
    "print(\"When passing in args=(list_of_inputs,)\")\n",
    "fun1(args=(list_of_inputs,))"
   ]
  },
  {
   "cell_type": "markdown",
   "metadata": {},
   "source": [
    "### Download and resize image (from a url)"
   ]
  },
  {
   "cell_type": "code",
   "execution_count": null,
   "metadata": {},
   "outputs": [],
   "source": [
    "def download_and_resize_image(url, new_width=256, new_height=256):\r\n",
    "    '''\r\n",
    "    Fetches an image online, resizes it and saves it locally.\r\n",
    "    \r\n",
    "    Args:\r\n",
    "        url (string) -- link to the image\r\n",
    "        new_width (int) -- size in pixels used for resizing the width of the image\r\n",
    "        new_height (int) -- size in pixels used for resizing the length of the image\r\n",
    "        \r\n",
    "    Returns:\r\n",
    "        (string) -- path to the saved image\r\n",
    "    '''\r\n",
    "    \r\n",
    "    \r\n",
    "    # create a temporary file ending with \".jpg\"\r\n",
    "    _, filename = tempfile.mkstemp(suffix=\".jpg\")\r\n",
    "    \r\n",
    "    # opens the given URL\r\n",
    "    response = urlopen(url)\r\n",
    "    \r\n",
    "    # reads the image fetched from the URL\r\n",
    "    image_data = response.read()\r\n",
    "    \r\n",
    "    # puts the image data in memory buffer\r\n",
    "    image_data = BytesIO(image_data)\r\n",
    "    \r\n",
    "    # opens the image\r\n",
    "    pil_image = Image.open(image_data)\r\n",
    "    \r\n",
    "    # resizes the image. will crop if aspect ratio is different.\r\n",
    "    pil_image = ImageOps.fit(pil_image, (new_width, new_height), Image.ANTIALIAS)\r\n",
    "    \r\n",
    "    # converts to the RGB colorspace\r\n",
    "    pil_image_rgb = pil_image.convert(\"RGB\")\r\n",
    "    \r\n",
    "    # saves the image to the temporary file created earlier\r\n",
    "    pil_image_rgb.save(filename, format=\"JPEG\", quality=90)\r\n",
    "    \r\n",
    "    print(\"Image downloaded to %s.\" % filename)\r\n",
    "    \r\n",
    "    return filename"
   ]
  },
  {
   "cell_type": "markdown",
   "metadata": {},
   "source": [
    "## numpy"
   ]
  },
  {
   "cell_type": "code",
   "execution_count": null,
   "metadata": {},
   "outputs": [],
   "source": []
  },
  {
   "cell_type": "code",
   "execution_count": null,
   "metadata": {},
   "outputs": [],
   "source": []
  }
 ],
 "metadata": {
  "kernelspec": {
   "display_name": "Python 3.8.1 64-bit ('liebherr': conda)",
   "name": "python381jvsc74a57bd05d20abe797a5090c394a8610e3bcb1c512bf83420e097ce20e9a6f8830d76d90"
  },
  "language_info": {
   "name": "python",
   "version": ""
  }
 },
 "nbformat": 4,
 "nbformat_minor": 2
}