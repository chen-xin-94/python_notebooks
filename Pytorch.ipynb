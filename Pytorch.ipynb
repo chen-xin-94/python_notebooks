{
 "cells": [
  {
   "cell_type": "markdown",
   "metadata": {},
   "source": [
    "# Pytorch Noteboook"
   ]
  },
  {
   "cell_type": "markdown",
   "metadata": {},
   "source": [
    "## Applications"
   ]
  },
  {
   "cell_type": "markdown",
   "metadata": {},
   "source": [
    "### GAN\r\n",
    "\r\n",
    "- https://github.com/chen-xin-94/coursera-gan-specialization/blob/main/C1%20-%20Build%20Basic%20Generative%20Adversarial%20Networks/Week%201/C1W1_Your_First_GAN.ipynb\r\n",
    "    - basic\r\n",
    "- https://github.com/chen-xin-94/coursera-gan-specialization/blob/main/C1%20-%20Build%20Basic%20Generative%20Adversarial%20Networks/Week%202/C1_W2_Assignment.ipynb\r\n",
    "    - DCGAN\r\n",
    "- https://github.com/chen-xin-94/coursera-gan-specialization/tree/main/C1%20-%20Build%20Basic%20Generative%20Adversarial%20Networks/Week%204\r\n",
    "    - conditonal and controllable GANs\r\n",
    "- https://github.com/chen-xin-94/coursera-gan-specialization/blob/main/C3%20-%20Apply%20Generative%20Adversarial%20Network%20(GAN)/Week%201/C3W1_Assignment.ipynb\r\n",
    "    - Data Augmentation and paper links\r\n",
    "    - Codes of generator, discriminator, classifier, training, ...\r\n"
   ]
  },
  {
   "cell_type": "markdown",
   "metadata": {},
   "source": [
    "### VAE\r\n",
    "\r\n",
    "- https://github.com/chen-xin-94/coursera-gan-specialization/blob/main/C2%20-%20Build%20Better%20Generative%20Adversarial%20Networks/Week%202/C2W2_VAE.ipynb"
   ]
  },
  {
   "cell_type": "markdown",
   "metadata": {},
   "source": [
    "## Basics"
   ]
  },
  {
   "cell_type": "markdown",
   "metadata": {},
   "source": [
    "### Intro to pytroch  \r\n",
    "\r\n",
    "https://github.com/chen-xin-94/coursera-gan-specialization/blob/main/C1%20-%20Build%20Basic%20Generative%20Adversarial%20Networks/Week%201/Intro_to_PyTorch.ipynb\r\n"
   ]
  },
  {
   "cell_type": "markdown",
   "metadata": {},
   "source": [
    "\r\n"
   ]
  },
  {
   "cell_type": "markdown",
   "metadata": {},
   "source": [
    "## Visualization"
   ]
  },
  {
   "cell_type": "code",
   "execution_count": null,
   "metadata": {},
   "outputs": [],
   "source": [
    "# https://www.coursera.org/learn/build-basic-generative-adversarial-networks-gans/programming/5XDp8/deep-convolutional-gan-dcgan/lab\r\n",
    "def show_tensor_images(image_tensor, num_images=25, size=(1, 28, 28)):\r\n",
    "    '''\r\n",
    "    Function for visualizing images: Given a tensor of images, number of images, and\r\n",
    "    size per image, plots and prints the images in an uniform grid.\r\n",
    "    '''\r\n",
    "    image_tensor = (image_tensor + 1) / 2\r\n",
    "    image_unflat = image_tensor.detach().cpu()\r\n",
    "    image_grid = make_grid(image_unflat[:num_images], nrow=5)\r\n",
    "    plt.imshow(image_grid.permute(1, 2, 0).squeeze())\r\n",
    "    plt.show()"
   ]
  }
 ],
 "metadata": {
  "interpreter": {
   "hash": "5d20abe797a5090c394a8610e3bcb1c512bf83420e097ce20e9a6f8830d76d90"
  },
  "kernelspec": {
   "display_name": "Python 3.8.1 64-bit ('liebherr': conda)",
   "name": "python3"
  },
  "language_info": {
   "name": "python",
   "version": ""
  },
  "orig_nbformat": 4
 },
 "nbformat": 4,
 "nbformat_minor": 2
}