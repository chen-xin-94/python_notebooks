{
 "cells": [
  {
   "cell_type": "markdown",
   "metadata": {},
   "source": [
    "# scipy"
   ]
  },
  {
   "cell_type": "markdown",
   "metadata": {},
   "source": [
    "## scipy.stats"
   ]
  },
  {
   "cell_type": "markdown",
   "metadata": {},
   "source": [
    "cdf, pdf ...\n",
    "\n",
    "See excercise solutinos of the course Data Literacy "
   ]
  },
  {
   "cell_type": "markdown",
   "metadata": {},
   "source": [
    "## scipy.optimize"
   ]
  },
  {
   "cell_type": "code",
   "execution_count": null,
   "metadata": {},
   "outputs": [
    {
     "data": {
      "text/plain": [
       "      fun: 30655764445.03536\n",
       " hess_inv: array([[ 2.70816104e-22, -9.36119867e-20,  0.00000000e+00],\n",
       "       [-9.36119867e-20,  3.27613090e-17,  0.00000000e+00],\n",
       "       [ 0.00000000e+00,  0.00000000e+00,  1.00000000e+00]])\n",
       "      jac: array([-1.12122651e+16, -4.58484020e+13,  0.00000000e+00])\n",
       "  message: 'Desired error not necessarily achieved due to precision loss.'\n",
       "     nfev: 794\n",
       "      nit: 114\n",
       "     njev: 196\n",
       "   status: 2\n",
       "  success: False\n",
       "        x: array([1.28988756e-06, 1.87454691e-02, 1.00000000e+00])"
      ]
     },
     "metadata": {},
     "output_type": "display_data"
    }
   ],
   "source": [
    "#### An example\n",
    "\n",
    "# define an arbitary function with parameters we want to optimize\n",
    "def exp_regression(x, a, b, c):\n",
    "    return(a * np.exp(b * x) + c)\n",
    "\n",
    "# define a loss function\n",
    "def l2_norm(y, y_hat):\n",
    "    return(np.sqrt(np.sum((y - y_hat)**2)))\n",
    "\n",
    "# objective function\n",
    "def func(coef, X, y):\n",
    "    a_, b_, c_ = coef\n",
    "    y_pred = exp_regression(\n",
    "        X, a_, b_, c_\n",
    "    )\n",
    "    obj = l2_norm(y, y_pred)\n",
    "    return obj\n",
    "\n",
    "# data\n",
    "args = (X, y)\n",
    "\n",
    "# initialized parameters\n",
    "coef = np.array([0.12, 0.13e-1, 1])\n",
    "\n",
    "opt_res = scipy.optimize.minimize(\n",
    "    func,\n",
    "    coef,\n",
    "    # method=\"Nelder-Mead\",\n",
    "    method=\"BFGS\",\n",
    "    options={\n",
    "        \"maxiter\": 10000,\n",
    "    },\n",
    "    args=args,\n",
    ")\n",
    "\n",
    "opt_res\n",
    "\n",
    "# get the optimized parameters\n",
    "# coef = opt_res.x "
   ]
  },
  {
   "cell_type": "markdown",
   "metadata": {},
   "source": [
    "## scipy.signal.find_peaks\n",
    "\n",
    "https://docs.scipy.org/doc/scipy/reference/generated/scipy.signal.find_peaks.html\n",
    "\n",
    "This function takes a 1-D array and finds all local maxima by simple comparison of neighboring values."
   ]
  }
 ],
 "metadata": {
  "language_info": {
   "name": "python"
  },
  "orig_nbformat": 4
 },
 "nbformat": 4,
 "nbformat_minor": 2
}
