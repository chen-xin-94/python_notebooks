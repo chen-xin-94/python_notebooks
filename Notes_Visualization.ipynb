{
 "cells": [
  {
   "cell_type": "markdown",
   "metadata": {},
   "source": [
    "## Confusion Matrix"
   ]
  },
  {
   "cell_type": "code",
   "execution_count": 19,
   "metadata": {},
   "outputs": [
    {
     "name": "stderr",
     "output_type": "stream",
     "text": [
      "<ipython-input-19-af48f3acde30>:13: UserWarning: FixedFormatter should only be used together with FixedLocator\n",
      "  ax.set_xticklabels([''] + labels)\n",
      "<ipython-input-19-af48f3acde30>:14: UserWarning: FixedFormatter should only be used together with FixedLocator\n",
      "  ax.set_yticklabels([''] + labels)\n"
     ]
    },
    {
     "data": {
      "image/png": "[encoded data removed]",
      "text/plain": "<Figure size 432x288 with 2 Axes>"
     },
     "metadata": {
      "needs_background": "light"
     },
     "output_type": "display_data"
    }
   ],
   "source": [
    "from sklearn.metrics import confusion_matrix\r\n",
    "import numpy as np\r\n",
    "import matplotlib.pyplot as plt\r\n",
    "import itertools\r\n",
    "\r\n",
    "def plot_confusion_matrix(y_true, y_pred, title='', labels=[0,1]):\r\n",
    "    cm = confusion_matrix(y_true, y_pred)\r\n",
    "    fig = plt.figure()\r\n",
    "    ax = fig.add_subplot(111)\r\n",
    "    cax = ax.matshow(cm)\r\n",
    "    plt.title('Confusion matrix of the classifier')\r\n",
    "    fig.colorbar(cax)\r\n",
    "    ax.set_xticklabels([''] + labels)\r\n",
    "    ax.set_yticklabels([''] + labels)\r\n",
    "    plt.xlabel('Predicted')\r\n",
    "    plt.ylabel('True')\r\n",
    "    fmt = 'd'\r\n",
    "    thresh = cm.max() / 2.\r\n",
    "    for i, j in itertools.product(range(cm.shape[0]), range(cm.shape[1])):\r\n",
    "          plt.text(j, i, format(cm[i, j], fmt),\r\n",
    "                  horizontalalignment=\"center\",\r\n",
    "                  color=\"black\" if cm[i, j] > thresh else \"white\")\r\n",
    "    plt.show()\r\n",
    "\r\n",
    "y_true = np.random.choice(2,100)\r\n",
    "y_pred = np.random.choice(2,100)\r\n",
    "plot_confusion_matrix( y_true,y_pred, title='Random test', labels = [0, 1])"
   ]
  },
  {
   "cell_type": "code",
   "execution_count": null,
   "metadata": {},
   "outputs": [],
   "source": []
  }
 ],
 "metadata": {
  "kernelspec": {
   "display_name": "Python 3.8.1 64-bit ('liebherr': conda)",
   "name": "python381jvsc74a57bd05d20abe797a5090c394a8610e3bcb1c512bf83420e097ce20e9a6f8830d76d90"
  },
  "language_info": {
   "codemirror_mode": {
    "name": "ipython",
    "version": 3
   },
   "file_extension": ".py",
   "mimetype": "text/x-python",
   "name": "python",
   "nbconvert_exporter": "python",
   "pygments_lexer": "ipython3",
   "version": "3.8.1"
  },
  "orig_nbformat": 2
 },
 "nbformat": 4,
 "nbformat_minor": 2
}