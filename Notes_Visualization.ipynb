{
 "cells": [
  {
   "cell_type": "markdown",
   "metadata": {},
   "source": [
    "## matplotlib"
   ]
  },
  {
   "cell_type": "markdown",
   "metadata": {},
   "source": [
    "### plt.subplot\r\n",
    "- Doc:  \r\n",
    "https://matplotlib.org/stable/api/_as_gen/matplotlib.pyplot.subplot.html"
   ]
  },
  {
   "cell_type": "code",
   "execution_count": null,
   "metadata": {},
   "outputs": [],
   "source": [
    "# Examples, a clip from offitial document (the above link)\r\n",
    "\r\n",
    "# subplot(nrows, ncols, index, **kwargs)\r\n",
    "\r\n",
    "plt.subplot(221)\r\n",
    "\r\n",
    "# equivalent but more general\r\n",
    "ax1 = plt.subplot(2, 2, 1)"
   ]
  },
  {
   "cell_type": "markdown",
   "metadata": {},
   "source": [
    "Note that the position of the subplot can be described by one of\r\n",
    "\r\n",
    "- Three integers (nrows, ncols, index). The subplot will take the index position on a grid with nrows rows and ncols columns. index starts at 1 in the upper left corner and increases to the right. index can also be a two-tuple specifying the (first, last) indices (1-based, and including last) of the subplot, e.g., fig.add_subplot(3, 1, (1, 2)) makes a subplot that spans the upper 2/3 of the figure.\r\n",
    "\r\n",
    "- A 3-digit integer. The digits are interpreted as if given separately as three single-digit integers, i.e. fig.add_subplot(235) is the same as fig.add_subplot(2, 3, 5). Note that this can only be used if there are no more than 9 subplots.\r\n",
    "\r\n",
    "- ..."
   ]
  },
  {
   "cell_type": "code",
   "execution_count": null,
   "metadata": {},
   "outputs": [],
   "source": [
    "def display_one_flower(image, title, subplot, red=False):\r\n",
    "    plt.subplot(subplot)\r\n",
    "    plt.axis('off')\r\n",
    "    plt.imshow(image)\r\n",
    "    plt.title(title, fontsize=16, color='red' if red else 'black')\r\n",
    "    return subplot+1 # way to switch to the next subplot\r\n",
    "  \r\n",
    "def display_9_images_from_dataset(dataset):\r\n",
    "  subplot=331\r\n",
    "  plt.figure(figsize=(13,13))\r\n",
    "  images, labels = pass\r\n",
    "  for i, image in enumerate(images):\r\n",
    "    title = CLASSES[np.argmax(labels[i], axis=-1)] # CLASSES = [NAME OF LABELS]\r\n",
    "    subplot = display_one_flower(image, title, subplot)\r\n",
    "    if i >= 8:\r\n",
    "      break;"
   ]
  },
  {
   "cell_type": "markdown",
   "metadata": {},
   "source": [
    "### plt.subplots\r\n",
    "\r\n",
    "- Doc:<br>\r\n",
    "https://matplotlib.org/stable/api/_as_gen/matplotlib.pyplot.subplots.html"
   ]
  },
  {
   "cell_type": "code",
   "execution_count": null,
   "metadata": {},
   "outputs": [],
   "source": [
    "# Examples, a clip from offitial document (the above link)\r\n",
    "\r\n",
    "# First create some toy data:\r\n",
    "x = np.linspace(0, 2*np.pi, 400)\r\n",
    "y = np.sin(x**2)\r\n",
    "\r\n",
    "# Create just a figure and only one subplot\r\n",
    "fig, ax = plt.subplots()\r\n",
    "ax.plot(x, y)\r\n",
    "ax.set_title('Simple plot')\r\n",
    "\r\n",
    "# Create two subplots and unpack the output array immediately\r\n",
    "f, (ax1, ax2) = plt.subplots(1, 2, sharey=True)\r\n",
    "ax1.plot(x, y)\r\n",
    "ax1.set_title('Sharing Y axis')\r\n",
    "ax2.scatter(x, y)\r\n",
    "\r\n",
    "# Create four polar axes and access them through the returned array\r\n",
    "fig, axs = plt.subplots(2, 2, subplot_kw=dict(projection=\"polar\"))\r\n",
    "axs[0, 0].plot(x, y)\r\n",
    "axs[1, 1].scatter(x, y)"
   ]
  },
  {
   "cell_type": "markdown",
   "metadata": {},
   "source": [
    "### plt.rc()\n",
    "\n",
    "is used tocustomize all kinds of properties, which we call 'rc settings' or 'rc parameters'.\n",
    "\n",
    "- Doc:  \n",
    "https://matplotlib.org/stable/api/_as_gen/matplotlib.pyplot.rc.html"
   ]
  },
  {
   "cell_type": "code",
   "execution_count": null,
   "metadata": {},
   "outputs": [],
   "source": [
    "# Example, a block in https://www.coursera.org/learn/custom-models-layers-loss-functions-with-tensorflow/ungradedLab/8uXQx/built-in-callbacks/lab\r\n",
    "\r\n",
    "# Visualization utilities\r\n",
    "plt.rc('font', size=20)\r\n",
    "plt.rc('figure', figsize=(15, 3))\r\n",
    "\r\n",
    "def display_digits(inputs, outputs, ground_truth, epoch, n=10):\r\n",
    "    plt.clf() # Clear the current figure.\r\n",
    "    plt.yticks([])\r\n",
    "    plt.grid(None)\r\n",
    "    inputs = np.reshape(inputs, [n, 28, 28])\r\n",
    "    inputs = np.swapaxes(inputs, 0, 1)\r\n",
    "    inputs = np.reshape(inputs, [28, 28*n])\r\n",
    "    plt.imshow(inputs)\r\n",
    "    plt.xticks([28*x+14 for x in range(n)], outputs)\r\n",
    "    for i,t in enumerate(plt.gca().xaxis.get_ticklabels()):\r\n",
    "        if outputs[i] == ground_truth[i]: \r\n",
    "            t.set_color('green') \r\n",
    "        else: \r\n",
    "            t.set_color('red')\r\n",
    "    plt.grid(None)"
   ]
  },
  {
   "cell_type": "markdown",
   "metadata": {},
   "source": [
    "### plt.imshow()\n",
    "plt.imshow() just finishes drawing a picture instead of printing it. If you want to print the picture, you just need to add plt.show()"
   ]
  },
  {
   "cell_type": "markdown",
   "metadata": {},
   "source": [
    "### [fmt] \r\n",
    "https://matplotlib.org/stable/api/_as_gen/matplotlib.pyplot.plot.html\r\n",
    "\r\n",
    "e.g. plot(x1, y1, 'bo'), plot(x2, y2, 'g')  \r\n"
   ]
  },
  {
   "cell_type": "markdown",
   "metadata": {},
   "source": [
    "### Tick locators\r\n",
    "\r\n",
    "https://matplotlib.org/3.1.1/gallery/ticks_and_spines/tick-locators.html"
   ]
  },
  {
   "cell_type": "code",
   "execution_count": null,
   "metadata": {},
   "outputs": [],
   "source": [
    "# Example\r\n",
    "plt.gca().xaxis.set_major_locator(mticker.MultipleLocator(1))"
   ]
  },
  {
   "cell_type": "markdown",
   "metadata": {},
   "source": [
    "### Confusion Matrix"
   ]
  },
  {
   "cell_type": "code",
   "execution_count": 19,
   "metadata": {},
   "outputs": [
    {
     "name": "stderr",
     "output_type": "stream",
     "text": [
      "<ipython-input-19-af48f3acde30>:13: UserWarning: FixedFormatter should only be used together with FixedLocator\n",
      "  ax.set_xticklabels([''] + labels)\n",
      "<ipython-input-19-af48f3acde30>:14: UserWarning: FixedFormatter should only be used together with FixedLocator\n",
      "  ax.set_yticklabels([''] + labels)\n"
     ]
    },
    {
     "data": {
      "image/png": "[encoded data removed]",
      "text/plain": "<Figure size 432x288 with 2 Axes>"
     },
     "metadata": {
      "needs_background": "light"
     },
     "output_type": "display_data"
    }
   ],
   "source": [
    "from sklearn.metrics import confusion_matrix\r\n",
    "import numpy as np\r\n",
    "import matplotlib.pyplot as plt\r\n",
    "import itertools\r\n",
    "\r\n",
    "def plot_confusion_matrix(y_true, y_pred, title='', labels=[0,1]):\r\n",
    "    cm = confusion_matrix(y_true, y_pred)\r\n",
    "    fig = plt.figure()\r\n",
    "    ax = fig.add_subplot(111)\r\n",
    "    cax = ax.matshow(cm)\r\n",
    "    plt.title('Confusion matrix of the classifier')\r\n",
    "    fig.colorbar(cax)\r\n",
    "    ax.set_xticklabels([''] + labels)\r\n",
    "    ax.set_yticklabels([''] + labels)\r\n",
    "    plt.xlabel('Predicted')\r\n",
    "    plt.ylabel('True')\r\n",
    "    fmt = 'd'\r\n",
    "    thresh = cm.max() / 2.\r\n",
    "    for i, j in itertools.product(range(cm.shape[0]), range(cm.shape[1])):\r\n",
    "          plt.text(j, i, format(cm[i, j], fmt),\r\n",
    "                  horizontalalignment=\"center\",\r\n",
    "                  color=\"black\" if cm[i, j] > thresh else \"white\")\r\n",
    "    plt.show()\r\n",
    "\r\n",
    "y_true = np.random.choice(2,100)\r\n",
    "y_pred = np.random.choice(2,100)\r\n",
    "plot_confusion_matrix( y_true,y_pred, title='Random test', labels = [0, 1])"
   ]
  },
  {
   "cell_type": "markdown",
   "metadata": {},
   "source": [
    "## Utility to display a row of images with their predictions and true labels"
   ]
  },
  {
   "cell_type": "code",
   "execution_count": null,
   "metadata": {},
   "outputs": [],
   "source": [
    "# utility to display a row of images with their predictions and true labels\r\n",
    "def display_images(image, predictions, labels, title, n):\r\n",
    "\r\n",
    "  display_strings = [str(i) + \"\\n\\n\" + str(j) for i, j in zip(predictions, labels)] \r\n",
    "\r\n",
    "  plt.figure(figsize=(17,3))\r\n",
    "  plt.title(title)\r\n",
    "  plt.yticks([])\r\n",
    "  plt.xticks([28*x+14 for x in range(n)], display_strings)\r\n",
    "  plt.grid(None)\r\n",
    "  image = np.reshape(image, [n, 28, 28])\r\n",
    "  image = np.swapaxes(image, 0, 1)\r\n",
    "  image = np.reshape(image, [28, 28*n])\r\n",
    "  plt.imshow(image)"
   ]
  },
  {
   "cell_type": "code",
   "execution_count": 23,
   "metadata": {
    "colab": {},
    "colab_type": "code",
    "id": "5ybveIIcPgVr"
   },
   "outputs": [
    {
     "data": {
      "image/png": "[encoded data removed]",
      "text/plain": [
       "<Figure size 1224x216 with 1 Axes>"
      ]
     },
     "output_type": "unknown"
    }
   ],
   "source": [
    "test_inputs = test_data.batch(batch_size=1000001)\r\n",
    "x_batches, y_pred_batches, y_true_batches = [], [], []\r\n",
    "\r\n",
    "for x, y in test_inputs:\r\n",
    "  y_pred = model(x)\r\n",
    "  y_pred_batches = y_pred.numpy()\r\n",
    "  y_true_batches = y.numpy()\r\n",
    "  x_batches = x.numpy()\r\n",
    "\r\n",
    "indexes = np.random.choice(len(y_pred_batches), size=10)\r\n",
    "images_to_plot = x_batches[indexes]\r\n",
    "y_pred_to_plot = y_pred_batches[indexes]\r\n",
    "y_true_to_plot = y_true_batches[indexes]\r\n",
    "\r\n",
    "y_pred_labels = [class_names[np.argmax(sel_y_pred)] for sel_y_pred in y_pred_to_plot]\r\n",
    "y_true_labels = [class_names[sel_y_true] for sel_y_true in y_true_to_plot]\r\n",
    "display_images(images_to_plot, y_pred_labels, y_true_labels, \"Predicted and True Values\", 10)"
   ]
  }
 ],
 "metadata": {
  "kernelspec": {
   "display_name": "Python 3.8.1 64-bit ('liebherr': conda)",
   "name": "python381jvsc74a57bd05d20abe797a5090c394a8610e3bcb1c512bf83420e097ce20e9a6f8830d76d90"
  },
  "language_info": {
   "name": "python",
   "version": ""
  },
  "orig_nbformat": 2
 },
 "nbformat": 4,
 "nbformat_minor": 2
}