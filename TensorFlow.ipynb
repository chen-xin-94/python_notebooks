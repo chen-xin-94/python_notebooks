{
 "cells": [
  {
   "cell_type": "markdown",
   "source": [
    "# TensorFlow Notebook"
   ],
   "metadata": {}
  },
  {
   "cell_type": "markdown",
   "source": [
    "## Applications"
   ],
   "metadata": {}
  },
  {
   "cell_type": "markdown",
   "source": [],
   "metadata": {}
  },
  {
   "cell_type": "markdown",
   "source": [
    "### Data Preparation\r\n",
    "\r\n",
    "- https://colab.research.google.com/drive/1qe6yCynKyUoQ_O84OkynVKUgAegqembI\r\n",
    "    - download, move, delete files with os, shutil, and bash commands\r\n",
    "    - tensorflow.keras.preprocessing.image\r\n",
    "        - ImageDataGenerator\r\n",
    "        - img_to_array, array_to_img, load_img"
   ],
   "metadata": {}
  },
  {
   "cell_type": "markdown",
   "source": [
    "#### Transfer Learning\r\n",
    "- https://colab.research.google.com/drive/1JGWdKozbc3dbRzFUtqqCLXbnsFg7EPtv\r\n",
    "    - Transfer learning\r\n",
    "    - Data augmentation and preprocessing by ImageDataGenerator\r\n"
   ],
   "metadata": {}
  },
  {
   "cell_type": "markdown",
   "source": [
    "#### Object Localization/Detection and Image Classification/Segmentation\r\n",
    "\r\n",
    "- https://colab.research.google.com/drive/12YB0Nmy0lFhZzw_ZBdb4gkBmbAc0qGce#scrollTo=qhdz68Xm3Z4Z\r\n",
    "- https://github.com/chen-xin-94/Tensorflow_Advance_Techniques/blob/main/3-Advance_computer_vision/week%20-1/C3W1_Assignment.ipynb\r\n",
    "    - Object detection (1. link)\r\n",
    "    - Object Localization (2.link)\r\n",
    "    - Transfer learning\r\n",
    "    - Data preprocessing based on tf.dataset\r\n",
    "    - Visualization of bounding boxes and predictions\r\n",
    "    - iou\r\n",
    "- https://colab.research.google.com/drive/1-jGcGcijVo4FG1doxn30_yaYDzusT9Ow\r\n",
    "    - Object detection API\r\n",
    "    - image preprocessing\r\n",
    "    - transfer learning\r\n",
    "        - Loading model and weiths from config and Checkpoint\r\n",
    "    - custom training\r\n",
    "- https://colab.research.google.com/drive/1gvdFXG7ZyPlE_VRmUMPNcQw6wRoCf-h-#scrollTo=NSFfcSDxhIS7\r\n",
    "    - Fully Convolutional Neural Networks for Image Segmentation\r\n",
    "- https://colab.research.google.com/drive/1gNWwhdlkcuoh8M2KGbwi017V9gSHoNjH?usp=sharing\r\n",
    "    - image segmentation\r\n",
    "    - FCN8\r\n",
    "- https://github.com/chen-xin-94/Tensorflow_Advance_Techniques/blob/main/3-Advance_computer_vision/week-4/C3_W4_Lab_1_FashionMNIST_CAM.ipynb\r\n",
    "    - Class Activation Map (CAM) in detail\r\n",
    "    - Visulization for CAM\r\n",
    "- https://github.com/chen-xin-94/Tensorflow_Advance_Techniques/blob/main/3-Advance_computer_vision/week-4/C3_W4_Lab_3_Saliency.ipynb\r\n",
    "    - Saliency in detail\r\n",
    "    - superimpose in cv2\r\n",
    "- https://github.com/chen-xin-94/Tensorflow_Advance_Techniques/blob/main/3-Advance_computer_vision/week-4/C3_W4_Lab_4_GradCam.ipynb\r\n",
    "    - GradCAM\r\n",
    "    - apply heatmap in cv2"
   ],
   "metadata": {}
  },
  {
   "cell_type": "markdown",
   "source": [
    "#### Autoencoder\r\n",
    "\r\n",
    "- https://github.com/chen-xin-94/Tensorflow_Advance_Techniques/blob/main/4-Generative-deeplearning-with-tensorflow/week-2/C4W2_Assignment.ipynb  \r\n",
    "    - autoencoder in functional API and Sequential API\r\n",
    "    - convolutional autoencoder and its visualization  \r\n",
    "- https://colab.research.google.com/drive/1VKb4mAz529EjeVhR3XT2smx_kwmwfIWs#scrollTo=5eZsrZtqJOzv  \r\n",
    "    - Variational Autoencoder (VAE)\r\n",
    "    "
   ],
   "metadata": {}
  },
  {
   "cell_type": "markdown",
   "source": [
    "#### GAN\r\n",
    "\r\n",
    "- https://colab.research.google.com/drive/1oLFwysBR8l5TSN4Hnh5XOY7sPtOYKpVT\r\n",
    "    - Generalization by gradient penalty\r\n",
    "    - TPU\r\n",
    "    - Distributed Training\r\n",
    "- https://colab.research.google.com/drive/11KqBmfEzfP6Pqb9-sCEvz4XiQVXIGuVH\r\n",
    "    - detailed comments"
   ],
   "metadata": {}
  },
  {
   "cell_type": "markdown",
   "source": [
    "## Basics\r\n"
   ],
   "metadata": {}
  },
  {
   "cell_type": "markdown",
   "source": [
    "### Input Layer\n",
    "\n",
    "- Meaning of None & Why don't need Batch size  \n",
    "https://www.coursera.org/learn/tensorflow-sequences-time-series-and-prediction/lecture/wNWnn/outputting-a-sequence\n",
    "\n",
    "- Input_shape vs Input_dim  \n",
    "https://stackoverflow.com/questions/53106111/in-keras-when-should-i-use-input-shape-instead-of-input-dim\n"
   ],
   "metadata": {}
  },
  {
   "cell_type": "markdown",
   "source": [
    "### Layer Output"
   ],
   "metadata": {}
  },
  {
   "cell_type": "code",
   "execution_count": null,
   "source": [
    "# output of each layer in a list\r\n",
    "# https://stackoverflow.com/questions/41711190/keras-how-to-get-the-output-of-each-layer\r\n",
    "outputs = [layer.output for layer in model.layers] "
   ],
   "outputs": [],
   "metadata": {}
  },
  {
   "cell_type": "markdown",
   "source": [
    "### An Simple Explanation of RNN and its Implementation in TensorFlow\n",
    "\n",
    "https://www.coursera.org/learn/tensorflow-sequences-time-series-and-prediction/lecture/blByn/conceptual-overview  \n",
    "https://www.coursera.org/learn/tensorflow-sequences-time-series-and-prediction/lecture/fP3ND/shape-of-the-inputs-to-the-rnn  \n",
    "https://www.coursera.org/learn/tensorflow-sequences-time-series-and-prediction/lecture/wNWnn/outputting-a-sequence  \n"
   ],
   "metadata": {}
  },
  {
   "cell_type": "markdown",
   "source": [
    "### An Example of Stacking CNN and RNN\n",
    "\n",
    "- Video:  \n",
    "https://www.coursera.org/learn/tensorflow-sequences-time-series-and-prediction/lecture/Ob5GY/bi-directional-lstms\n",
    "\n",
    "\n",
    "- Code:  \n",
    "https://colab.research.google.com/github/lmoroney/dlaicourse/blob/master/TensorFlow%20In%20Practice/Course%204%20-%20S%2BP/S%2BP%20Week%204%20Lesson%201.ipynb"
   ],
   "metadata": {}
  },
  {
   "cell_type": "code",
   "execution_count": null,
   "source": [],
   "outputs": [],
   "metadata": {}
  },
  {
   "cell_type": "markdown",
   "source": [
    "### tf.dataset"
   ],
   "metadata": {}
  },
  {
   "cell_type": "markdown",
   "source": [
    "#### .batch(), .unbatch(), .take"
   ],
   "metadata": {}
  },
  {
   "cell_type": "code",
   "execution_count": 16,
   "source": [
    "import tensorflow as tf\r\n",
    "dataset = tf.data.Dataset.range(8)\r\n",
    "dataset = dataset.batch(3)\r\n",
    "list(dataset.as_numpy_iterator())"
   ],
   "outputs": [
    {
     "output_type": "unknown",
     "data": {
      "text/plain": [
       "[array([0, 1, 2], dtype=int64),\n",
       " array([3, 4, 5], dtype=int64),\n",
       " array([6, 7], dtype=int64)]"
      ]
     }
    }
   ],
   "metadata": {}
  },
  {
   "cell_type": "code",
   "execution_count": 17,
   "source": [
    "ds = dataset.unbatch()\r\n",
    "list(ds.as_numpy_iterator())"
   ],
   "outputs": [
    {
     "output_type": "unknown",
     "data": {
      "text/plain": [
       "[0, 1, 2, 3, 4, 5, 6, 7]"
      ]
     }
    }
   ],
   "metadata": {}
  },
  {
   "cell_type": "code",
   "execution_count": 19,
   "source": [
    "ds = dataset.unbatch().batch(8)\r\n",
    "for elem in ds.take(1):\r\n",
    "    print(elem)"
   ],
   "outputs": [
    {
     "output_type": "unknown",
     "data": {
      "application/vnd.code.notebook.stdout": [
       "tf.Tensor([0 1 2 3 4 5 6 7], shape=(8,), dtype=int64)\n"
      ]
     }
    }
   ],
   "metadata": {}
  },
  {
   "cell_type": "markdown",
   "source": [
    "#### Show element(s) of tf.dataset"
   ],
   "metadata": {}
  },
  {
   "cell_type": "code",
   "execution_count": 24,
   "source": [
    "# Take a look at a single batch from the train_dist_dataset (a tf.dataset instance)\r\n",
    "x = iter(train_dist_dataset).get_next()\r\n",
    "\r\n",
    "print(f\"x is a tuple that contains {len(x)} values \")\r\n",
    "print(f\"x[0] contains the features, and has shape {x[0].shape}\")\r\n",
    "print(f\"  so it has {x[0].shape[0]} examples in the batch, each is an image that is {x[0].shape[1:]}\")\r\n",
    "print(f\"x[1] contains the labels, and has shape {x[1].shape}\")"
   ],
   "outputs": [
    {
     "output_type": "unknown",
     "data": {
      "application/vnd.code.notebook.stdout": [
       "x is a tuple that contains 2 values \n",
       "x[0] contains the features, and has shape (64, 224, 224, 3)\n",
       "  so it has 64 examples in the batch, each is an image that is (224, 224, 3)\n",
       "x[1] contains the labels, and has shape (64,)\n"
      ]
     }
    }
   ],
   "metadata": {}
  },
  {
   "cell_type": "code",
   "execution_count": null,
   "source": [
    "# train_dataset is a tf.dataset instance\r\n",
    "\r\n",
    "## show 1 element\r\n",
    "for elem in train_dataset.take(1):\r\n",
    "  print (elem)\r\n",
    "\r\n",
    "## show 1 element\r\n",
    "elem = next(iter(train_dataset))\r\n",
    "\r\n",
    "## show elements (batchwise)\r\n",
    "list(iter(train_dataset))\r\n",
    "\r\n",
    "## show all elements (batchwise)\r\n",
    "for elem in tfds.as_numpy(dataset):\r\n",
    "  print(elem)\r\n",
    "\r\n",
    "## each element of the dataset contains (images,labels)\r\n",
    "def dataset_to_numpy_util(dataset, N):\r\n",
    "  dataset = dataset.batch(N)\r\n",
    "  \r\n",
    "  if tf.executing_eagerly():\r\n",
    "    # In eager mode, iterate in the Datset directly.\r\n",
    "    for images, labels in dataset:\r\n",
    "      numpy_images = images.numpy()\r\n",
    "      numpy_labels = labels.numpy()\r\n",
    "      break;\r\n",
    "      \r\n",
    "  else: # In non-eager mode, must get the TF note that \r\n",
    "        # yields the nextitem and run it in a tf.Session.\r\n",
    "    get_next_item = dataset.make_one_shot_iterator().get_next()\r\n",
    "    with tf.Session() as ses:\r\n",
    "      numpy_images, numpy_labels = ses.run(get_next_item)\r\n",
    "\r\n",
    "  return numpy_images, numpy_labels\r\n",
    "\r\n",
    "## each element of the dataset contains (images,coordinates of bounding boxes)\r\n",
    "def dataset_to_numpy_util(dataset, batch_size=0, N=0):\r\n",
    "\r\n",
    "    # eager execution: loop through datasets normally\r\n",
    "    take_dataset = dataset.shuffle(1024)\r\n",
    "\r\n",
    "    if batch_size > 0:\r\n",
    "        take_dataset = take_dataset.batch(batch_size)\r\n",
    "  \r\n",
    "    if N > 0:\r\n",
    "        take_dataset = take_dataset.take(N)\r\n",
    "  \r\n",
    "    if tf.executing_eagerly():\r\n",
    "        ds_images, ds_bboxes = [], []\r\n",
    "        for images, bboxes in take_dataset:\r\n",
    "            ds_images.append(images.numpy())\r\n",
    "            ds_bboxes.append(bboxes.numpy())\r\n",
    "        \r\n",
    "    return (np.array(ds_images), np.array(ds_bboxes))"
   ],
   "outputs": [],
   "metadata": {}
  },
  {
   "cell_type": "markdown",
   "source": [
    "#### Example 1"
   ],
   "metadata": {}
  },
  {
   "cell_type": "code",
   "execution_count": 1,
   "source": [
    "# Example 1\r\n",
    "import tensorflow as tf\r\n",
    "import numpy as np\r\n",
    "import tensorflow_datasets as tfds\r\n",
    "\r\n",
    "train_data, info = tfds.load(\"fashion_mnist\", split = \"train\", with_info = True, data_dir='./data/', download=False)\r\n",
    "test_data = tfds.load(\"fashion_mnist\", split = \"test\", data_dir='./data/', download=False)\r\n",
    "\r\n",
    "class_names = [\"T-shirt/top\", \"Trouser/pants\", \"Pullover shirt\", \"Dress\", \"Coat\", \"Sandal\", \"Shirt\", \"Sneaker\", \"Bag\", \"Ankle boot\"]\r\n",
    "\r\n",
    "def format_image(data):        \r\n",
    "    image = data[\"image\"]\r\n",
    "    image = tf.reshape(image, [-1])\r\n",
    "    image = tf.cast(image, 'float32')\r\n",
    "    image = image / 255.0\r\n",
    "    return image, data[\"label\"]\r\n",
    "\r\n",
    "train_data = train_data.map(format_image)\r\n",
    "test_data = test_data.map(format_image)\r\n",
    "\r\n",
    "batch_size = 64\r\n",
    "train = train_data.shuffle(buffer_size=1024).batch(batch_size)\r\n",
    "test =  test_data.batch(batch_size=batch_size)\r\n",
    "\r\n",
    "train"
   ],
   "outputs": [
    {
     "output_type": "unknown",
     "data": {
      "text/plain": [
       "<BatchDataset shapes: ((None, 784), (None,)), types: (tf.float32, tf.int64)>"
      ]
     }
    }
   ],
   "metadata": {}
  },
  {
   "cell_type": "code",
   "execution_count": null,
   "source": [
    "#Iterate through all batches of training data\r\n",
    "for step, (x_batch_train, y_batch_train) in enumerate(train):\r\n",
    "    pass"
   ],
   "outputs": [],
   "metadata": {}
  },
  {
   "cell_type": "code",
   "execution_count": null,
   "source": [
    "# inference using tf.dataset\r\n",
    "est_inputs = test_data.batch(batch_size=1000001)\r\n",
    "x_batches, y_pred_batches, y_true_batches = [], [], []\r\n",
    "\r\n",
    "for x, y in test_inputs:\r\n",
    "  y_pred = model(x) # Codes for model are omitted here. See full codes in https://github.com/chen-xin-94/Tensorflow_Advance_Techniques/blob/main/2-custom_and_distributed_training/week-2/C2_W2_Lab_2_training-categorical.ipynb\r\n",
    "  y_pred_batches = y_pred.numpy()\r\n",
    "  y_true_batches = y.numpy()\r\n",
    "  x_batches = x.numpy()\r\n",
    "\r\n",
    "indexes = np.random.choice(len(y_pred_batches), size=10)\r\n",
    "images_to_plot = x_batches[indexes]\r\n",
    "y_pred_to_plot = y_pred_batches[indexes]\r\n",
    "y_true_to_plot = y_true_batches[indexes]"
   ],
   "outputs": [],
   "metadata": {}
  },
  {
   "cell_type": "markdown",
   "source": [
    "#### Example 2\n",
    "\n",
    "from pandas to tf.dataset, see the beginning of   \n",
    "https://github.com/chen-xin-94/Tensorflow_Advance_Techniques/blob/main/2-custom_and_distributed_training/week-2/C2W2_Assignment.ipynb\n",
    "\n"
   ],
   "metadata": {}
  },
  {
   "cell_type": "code",
   "execution_count": null,
   "source": [
    "# Example 3\r\n",
    "# https://colab.research.google.com/drive/1WlqcLW5cnH5DJ3nEmjJhcnbCJVktS2pM#scrollTo=_tRPCjI9YxKN\r\n",
    "\r\n",
    "# URI of the dataset in Goocle Cloud Storage\r\n",
    "GCS_BASE_DIR = \"gs://celeb_a_dataset/\"\r\n",
    "# Load the data using TFDS\r\n",
    "data, data_info = tfds.load(\"celeb_a\", data_dir=GCS_BASE_DIR, with_info=True, builder_kwargs={'version':'2.0.0'})\r\n",
    "# Take 6 examples and preview images\r\n",
    "fig = tfds.show_examples(data['train'].take(6), data_info)\r\n",
    "# Take 4 examples as a dataframe\r\n",
    "df = tfds.as_dataframe(data['train'].take(4), data_info)"
   ],
   "outputs": [],
   "metadata": {}
  },
  {
   "cell_type": "markdown",
   "source": [
    "#### train validation test split"
   ],
   "metadata": {}
  },
  {
   "cell_type": "code",
   "execution_count": null,
   "source": [
    "# full code: https://github.com/chen-xin-94/Tensorflow_Advance_Techniques/blob/main/2-custom_and_distributed_training/week-3/C2W3_Assignment.ipynb\r\n",
    "\r\n",
    "splits, info = tfds.load('horses_or_humans', as_supervised=True, with_info=True, split=['train[:80%]', 'train[80%:]', 'test'], data_dir='./data')\r\n",
    "\r\n",
    "(train_examples, validation_examples, test_examples) = splits\r\n",
    "\r\n",
    "num_examples = info.splits['train'].num_examples\r\n",
    "num_classes = info.features['label'].num_classes"
   ],
   "outputs": [],
   "metadata": {}
  },
  {
   "cell_type": "markdown",
   "source": [
    "### tf.image"
   ],
   "metadata": {}
  },
  {
   "cell_type": "code",
   "execution_count": null,
   "source": [
    "# Data Preparation Utilities\r\n",
    "# https://colab.research.google.com/drive/1VKb4mAz529EjeVhR3XT2smx_kwmwfIWs#scrollTo=iGoCJ6DPJHL8\r\n",
    "\r\n",
    "def get_dataset_slice_paths(image_dir):\r\n",
    "  '''returns a list of paths to the image files'''\r\n",
    "  image_file_list = os.listdir(image_dir)\r\n",
    "  image_paths = [os.path.join(image_dir, fname) for fname in image_file_list]\r\n",
    "\r\n",
    "  return image_paths\r\n",
    "\r\n",
    "\r\n",
    "def map_image(image_filename):\r\n",
    "  '''preprocesses the images'''\r\n",
    "  img_raw = tf.io.read_file(image_filename)\r\n",
    "  image = tf.image.decode_jpeg(img_raw)\r\n",
    "\r\n",
    "  image = tf.cast(image, dtype=tf.float32)\r\n",
    "  image = tf.image.resize(image, (IMAGE_SIZE, IMAGE_SIZE))\r\n",
    "  image = image / 255.0  \r\n",
    "  image = tf.reshape(image, shape=(IMAGE_SIZE, IMAGE_SIZE, 3,))\r\n",
    "\r\n",
    "  return image\r\n",
    "\r\n",
    "# load the training image paths into tensors, create batches and shuffle\r\n",
    "training_dataset = tf.data.Dataset.from_tensor_slices((train_paths))\r\n",
    "training_dataset = training_dataset.map(map_image)\r\n",
    "training_dataset = training_dataset.shuffle(1000).batch(BATCH_SIZE)"
   ],
   "outputs": [],
   "metadata": {}
  },
  {
   "cell_type": "code",
   "execution_count": null,
   "source": [
    "# https://colab.research.google.com/drive/1fYFqo0i7gLEm1DnWw8xPBsGU1Pn6PZls#scrollTo=3TLljcwv5qZs\r\n",
    "\r\n",
    "import tensorflow as tf\r\n",
    "import matplotlib.pyplot as plt\r\n",
    "import numpy as np\r\n",
    "from keras import backend as K\r\n",
    "\r\n",
    "from imageio import mimsave\r\n",
    "from IPython.display import display as display_fn\r\n",
    "from IPython.display import Image, clear_output\r\n",
    "\r\n",
    "def tensor_to_image(tensor):\r\n",
    "  '''converts a tensor to an image'''\r\n",
    "  tensor_shape = tf.shape(tensor)\r\n",
    "  number_elem_shape = tf.shape(tensor_shape)\r\n",
    "  if number_elem_shape > 3:\r\n",
    "    assert tensor_shape[0] == 1\r\n",
    "    tensor = tensor[0]\r\n",
    "  return tf.keras.preprocessing.image.array_to_img(tensor) \r\n",
    "\r\n",
    "\r\n",
    "def load_img(path_to_img):\r\n",
    "  '''loads an image as a tensor and scales it to 512 pixels'''\r\n",
    "  max_dim = 512\r\n",
    "  image = tf.io.read_file(path_to_img)\r\n",
    "  image = tf.image.decode_jpeg(image)\r\n",
    "  image = tf.image.convert_image_dtype(image, tf.float32)\r\n",
    "\r\n",
    "  shape = tf.shape(image)[:-1]\r\n",
    "  shape = tf.cast(tf.shape(image)[:-1], tf.float32)\r\n",
    "  long_dim = max(shape)\r\n",
    "  scale = max_dim / long_dim\r\n",
    "\r\n",
    "  new_shape = tf.cast(shape * scale, tf.int32)\r\n",
    "\r\n",
    "  image = tf.image.resize(image, new_shape)\r\n",
    "  image = image[tf.newaxis, :]\r\n",
    "  image = tf.image.convert_image_dtype(image, tf.uint8)\r\n",
    "\r\n",
    "  return image\r\n",
    "\r\n",
    "\r\n",
    "def load_images(content_path, style_path):\r\n",
    "  '''loads the content and path images as tensors'''\r\n",
    "  content_image = load_img(\"{}\".format(content_path))\r\n",
    "  style_image = load_img(\"{}\".format(style_path))\r\n",
    "\r\n",
    "  return content_image, style_image\r\n",
    "\r\n",
    "\r\n",
    "def imshow(image, title=None):\r\n",
    "  '''displays an image with a corresponding title'''\r\n",
    "  if len(image.shape) > 3:\r\n",
    "    image = tf.squeeze(image, axis=0)\r\n",
    "\r\n",
    "  plt.imshow(image)\r\n",
    "  if title:\r\n",
    "    plt.title(title)\r\n",
    "    \r\n",
    "    \r\n",
    "def show_images_with_objects(images, titles=[]):\r\n",
    "  '''displays a row of images with corresponding titles'''\r\n",
    "  if len(images) != len(titles):\r\n",
    "    return\r\n",
    "\r\n",
    "  plt.figure(figsize=(20, 12))\r\n",
    "  for idx, (image, title) in enumerate(zip(images, titles)):\r\n",
    "    plt.subplot(1, len(images), idx + 1)\r\n",
    "    plt.xticks([])\r\n",
    "    plt.yticks([])\r\n",
    "    imshow(image, title)\r\n",
    "\r\n",
    "def display_gif(gif_path):\r\n",
    "  '''displays the generated images as an animated gif'''\r\n",
    "  with open(gif_path,'rb') as f:\r\n",
    "    display_fn(Image(data=f.read(), format='png'))\r\n",
    "\r\n",
    "\r\n",
    "def create_gif(gif_path, images):\r\n",
    "  '''creates animation of generated images'''\r\n",
    "  mimsave(gif_path, images, fps=1)\r\n",
    "  \r\n",
    "  return gif_path\r\n",
    "\r\n",
    "\r\n",
    "def clip_image_values(image, min_value=0.0, max_value=255.0):\r\n",
    "  '''clips the image pixel values by the given min and max'''\r\n",
    "  return tf.clip_by_value(image, clip_value_min=min_value, clip_value_max=max_value)\r\n",
    "\r\n",
    "\r\n",
    "def preprocess_image(image):\r\n",
    "  '''centers the pixel values of a given image to use with VGG-19'''\r\n",
    "  image = tf.cast(image, dtype=tf.float32)\r\n",
    "  image = tf.keras.applications.vgg19.preprocess_input(image)\r\n",
    "\r\n",
    "  return image"
   ],
   "outputs": [],
   "metadata": {}
  },
  {
   "cell_type": "code",
   "execution_count": null,
   "source": [
    "# https://colab.research.google.com/drive/11KqBmfEzfP6Pqb9-sCEvz4XiQVXIGuVH#scrollTo=4rf-e4f-d3H7\r\n",
    "\r\n",
    "BATCH_SIZE = 32\r\n",
    "\r\n",
    "# mapping function for preprocessing the image files\r\n",
    "def map_images(file):\r\n",
    "  '''converts the images to floats and normalizes the pixel values'''\r\n",
    "  img = tf.io.decode_png(tf.io.read_file(file))\r\n",
    "  img = tf.dtypes.cast(img, tf.float32)\r\n",
    "  img = img / 255.0\r\n",
    "  \r\n",
    "  return img\r\n",
    "\r\n",
    "# create training batches\r\n",
    "filename_dataset = tf.data.Dataset.list_files(\"/tmp/signs-training/*.png\")\r\n",
    "image_dataset = filename_dataset.map(map_images).batch(BATCH_SIZE)"
   ],
   "outputs": [],
   "metadata": {}
  },
  {
   "cell_type": "markdown",
   "source": [
    "### tf.keras.losses"
   ],
   "metadata": {}
  },
  {
   "cell_type": "markdown",
   "source": [
    "#### SparseCategoricalCrossentropy vs CategoricalCrossentropy\r\n",
    "\r\n",
    "https://www.tensorflow.org/api_docs/python/tf/keras/losses/SparseCategoricalCrossentropy  \r\n",
    "\r\n",
    "SparseCategoricalCrossentropy expects labels to be provided as integers. If you want to provide labels using one-hot representation, please use CategoricalCrossentropy loss."
   ],
   "metadata": {}
  },
  {
   "cell_type": "code",
   "execution_count": null,
   "source": [],
   "outputs": [],
   "metadata": {}
  },
  {
   "cell_type": "markdown",
   "source": [
    "### Gradient Tape\n",
    "\n",
    "- Videos:\n",
    "    - https://www.coursera.org/learn/custom-distributed-training-with-tensorflow/lecture/N7AHG/gradient-\n",
    "    - https://www.coursera.org/learn/custom-distributed-training-with-tensorflow/lecture/qD1oo/gradient-descent-using-gradient-tape\n",
    "- Code:\n",
    "    - https://github.com/chen-xin-94/Tensorflow_Advance_Techniques/blob/main/2-custom_and_distributed_training/week-1/C2_W1_Lab_2_gradient-tape-basics.ipynb\n"
   ],
   "metadata": {}
  },
  {
   "cell_type": "code",
   "execution_count": null,
   "source": [
    "# An very simple example\r\n",
    "\"\"\"\r\n",
    "Args:\r\n",
    "    x (EagerTensor): a tensor.\r\n",
    "\r\n",
    "Returns:\r\n",
    "    EagerTensor: Derivative of z with respect to the input tensor x.\r\n",
    "\"\"\"\r\n",
    "with tf.GradientTape() as t:\r\n",
    "    \r\n",
    "    # Record the actions performed on tensor x with `watch`\r\n",
    "    t.watch(x)   \r\n",
    "\r\n",
    "    # Define a polynomial of form 3x^3 - 2x^2 + x\r\n",
    "    y = 3*(x**3) - 2*(x**2) + x \r\n",
    "\r\n",
    "    # Obtain the sum of the elements in variable y\r\n",
    "    z = tf.reduce_sum(y) \r\n",
    "\r\n",
    "# Get the derivative of z with respect to the original input tensor x\r\n",
    "dz_dx = t.gradient(z,x)"
   ],
   "outputs": [],
   "metadata": {}
  },
  {
   "cell_type": "code",
   "execution_count": 3,
   "source": [
    "# use Gradient Tape for custom training loop\r\n",
    "def apply_gradient(optimizer, loss_object, model, x, y):\r\n",
    "    '''\r\n",
    "    applies the gradients to the trainable model weights\r\n",
    "    \r\n",
    "    Args:\r\n",
    "        optimizer: optimizer to update model weights\r\n",
    "        loss_object: type of loss to measure during training\r\n",
    "        model: the model we are training\r\n",
    "        x: input data to the model\r\n",
    "        y: target values for each input\r\n",
    "    '''\r\n",
    "    \r\n",
    "    with tf.GradientTape() as tape:\r\n",
    "    ### START CODE HERE ###\r\n",
    "        logits = model(x) \r\n",
    "        loss_value = loss_object(y_true = y, y_pred = logits)\r\n",
    "  \r\n",
    "    gradients = tape.gradient(loss_value , model.trainable_weights)\r\n",
    "    optimizer.apply_gradients(zip(gradients, model.trainable_weights)) \r\n",
    "    ### END CODE HERE ###\r\n",
    "  \r\n",
    "    return logits, loss_value"
   ],
   "outputs": [],
   "metadata": {}
  },
  {
   "cell_type": "code",
   "execution_count": null,
   "source": [],
   "outputs": [],
   "metadata": {}
  },
  {
   "cell_type": "markdown",
   "source": [
    "### Callback"
   ],
   "metadata": {}
  },
  {
   "cell_type": "markdown",
   "source": [
    "- Bulit-in callbacks:\r\n",
    "    - Tensorboard, ModelCheckpoint, EarlyStopping, CSVLogger\r\n",
    "        - Video:   \r\n",
    "        https://www.coursera.org/learn/custom-models-layers-loss-functions-with-tensorflow/lecture/Qk2yU/built-in-callbacks\r\n",
    "        - Code:  \r\n",
    "        https://github.com/chen-xin-94/Tensorflow_Advance_Techniques/blob/main/1-custom_models_layers_losses/week-5/C1_W5_Lab_1_exploring-callbacks.ipynb\r\n",
    "        \r\n",
    "- Custom callbacks\r\n",
    "    - Video:  \r\n",
    "    https://www.coursera.org/learn/custom-models-layers-loss-functions-with-tensorflow/lecture/1NR1C/custom-callbacks\r\n",
    "    - Code:  \r\n",
    "    https://github.com/chen-xin-94/Tensorflow_Advance_Techniques/blob/main/1-custom_models_layers_losses/week-5/C1_W5_Lab_2_custom-callbacks.ipynb\r\n",
    "        "
   ],
   "metadata": {}
  },
  {
   "cell_type": "code",
   "execution_count": null,
   "source": [
    "# an old but very simple example of cumstom callback\r\n",
    "import tensorflow as tf\r\n",
    "\r\n",
    "class myCallback(tf.keras.callbacks.Callback):\r\n",
    "  def on_epoch_end(self, epoch, logs={}):\r\n",
    "    if(logs.get('accuracy')>0.99):\r\n",
    "      print(\"\\nReached 99% accuracy so cancelling training!\")\r\n",
    "      self.model.stop_training = True\r\n",
    "\r\n",
    "mnist = tf.keras.datasets.mnist\r\n",
    "\r\n",
    "(x_train, y_train),(x_test, y_test) = mnist.load_data()\r\n",
    "x_train, x_test = x_train / 255.0, x_test / 255.0\r\n",
    "\r\n",
    "callbacks = myCallback()\r\n",
    "\r\n",
    "model = tf.keras.models.Sequential([\r\n",
    "  tf.keras.layers.Flatten(input_shape=(28, 28)),\r\n",
    "  tf.keras.layers.Dense(512, activation=tf.nn.relu),\r\n",
    "  tf.keras.layers.Dense(10, activation=tf.nn.softmax)\r\n",
    "])\r\n",
    "model.compile(optimizer='adam',\r\n",
    "              loss='sparse_categorical_crossentropy',\r\n",
    "              metrics=['accuracy'])\r\n",
    "\r\n",
    "model.fit(x_train, y_train, epochs=10, callbacks=[callbacks])"
   ],
   "outputs": [],
   "metadata": {}
  },
  {
   "cell_type": "markdown",
   "source": [
    "### AutoGraph\n",
    "\n",
    "https://www.coursera.org/learn/custom-distributed-training-with-tensorflow/lecture/dzCTY/benefits-of-graph-mode\n",
    "\n",
    "https://github.com/chen-xin-94/Tensorflow_Advance_Techniques/blob/main/2-custom_and_distributed_training/week-3/C2W3_Assignment.ipynb"
   ],
   "metadata": {}
  },
  {
   "cell_type": "markdown",
   "source": [
    "### tf.metrics"
   ],
   "metadata": {}
  },
  {
   "cell_type": "code",
   "execution_count": 2,
   "source": [
    "# method update_state(), result(), reset_state()\r\n",
    "import tensorflow as tf\r\n",
    "\r\n",
    "mean_object = tf.metrics.Mean()\r\n",
    "values = [1, 2, 3, 4, 5]\r\n",
    "\r\n",
    "for ix, val in enumerate(values):\r\n",
    "    mean_object.update_state(val) # equivalent to mean_object(val)\r\n",
    "    print(mean_object.result().numpy(), 'is the mean of', values[:ix+1])\r\n",
    "print(\"reset:\")\r\n",
    "mean_object.reset_states()\r\n",
    "print(mean_object.result().numpy())"
   ],
   "outputs": [
    {
     "output_type": "stream",
     "name": "stdout",
     "text": [
      "1.0 is the mean of [1]\n",
      "1.5 is the mean of [1, 2]\n",
      "2.0 is the mean of [1, 2, 3]\n",
      "2.5 is the mean of [1, 2, 3, 4]\n",
      "3.0 is the mean of [1, 2, 3, 4, 5]\n",
      "reset:\n",
      "0.0\n"
     ]
    }
   ],
   "metadata": {}
  },
  {
   "cell_type": "markdown",
   "source": [
    "## Customization"
   ],
   "metadata": {}
  },
  {
   "cell_type": "markdown",
   "source": [
    "### Functional API and Custom Models\n",
    "\n",
    "- Functional API for multiple outputs or inputs:  \n",
    "https://github.com/chen-xin-94/Tensorflow_Advance_Techniques/tree/main/1-custom_models_layers_losses/week-1\n",
    "\n",
    "-  Model subclassing (Customizing models as Model class)\n",
    "\n",
    "    - Overall  \n",
    "        - https://www.coursera.org/learn/custom-models-layers-loss-functions-with-tensorflow/lecture/CumBB/coding-a-wide-and-deep-model\n",
    "    - ResNet Implementation\n",
    "        - https://www.coursera.org/learn/custom-models-layers-loss-functions-with-tensorflow/lecture/33xkF/coding-a-residual-network-with-the-model-class\n",
    "        -    https://github.com/chen-xin-94/Tensorflow_Advance_Techniques/blob/main/1-custom_models_layers_losses/week-4/C1_W4_Lab_2_resnet-example.ipynb\n"
   ],
   "metadata": {}
  },
  {
   "cell_type": "markdown",
   "source": [
    "### Custom Layers\n",
    "- Lambda layer\n",
    "    - https://www.coursera.org/learn/custom-models-layers-loss-functions-with-tensorflow/ungradedLab/AFDgQ/lambda-layer\n",
    "    - https://www.coursera.org/learn/tensorflow-sequences-time-series-and-prediction/lecture/I0K6b/lambda-layers\n",
    "- Cumstom layers\n",
    "    - https://www.coursera.org/learn/custom-models-layers-loss-functions-with-tensorflow/ungradedLab/laUcE/custom-dense-layer"
   ],
   "metadata": {}
  },
  {
   "cell_type": "markdown",
   "source": [
    "### Custom Loss Function\n",
    "\n",
    "Examples:\n",
    "-   as Function:\n",
    "    -   https://www.coursera.org/learn/custom-models-layers-loss-functions-with-tensorflow/lecture/wJIqv/adding-hyperparameters-to-custom-loss-functions\n",
    "-   as Class\n",
    "    -   https://www.coursera.org/learn/custom-models-layers-loss-functions-with-tensorflow/lecture/FS2QA/turning-loss-functions-into-classes"
   ],
   "metadata": {}
  },
  {
   "cell_type": "markdown",
   "source": [
    "### Custom Training\n",
    "- Processes:  \n",
    "    1. Prepare datasets \n",
    "    2. Define Model, Optimizer, Loss and Metrics\n",
    "    3. Define the Function to Apply Gradients\n",
    "    4. Establish Training Loop\n",
    "        1. Perform training over all batches of training data.\n",
    "        2. Get values of metrics.\n",
    "        3. Perform validation to calculate loss and update validation metrics on test data.\n",
    "        4. Reset the metrics at the end of epoch.\n",
    "        5. Display statistics at the end of each epoch.\n",
    "    5. Evalutate the Model  \n",
    "<Br>\n",
    "- Codes:  \n",
    "    - https://github.com/chen-xin-94/Tensorflow_Advance_Techniques/blob/main/2-custom_and_distributed_training/week-2/C2_W2_Lab_1_training-basics.ipynb\n",
    "    - https://github.com/chen-xin-94/Tensorflow_Advance_Techniques/blob/main/2-custom_and_distributed_training/week-2/C2_W2_Lab_2_training-categorical.ipynb\n",
    "    - https://github.com/chen-xin-94/Tensorflow_Advance_Techniques/blob/main/2-custom_and_distributed_training/week-2/C2W2_Assignment.ipynb"
   ],
   "metadata": {}
  },
  {
   "cell_type": "code",
   "execution_count": null,
   "source": [],
   "outputs": [],
   "metadata": {}
  },
  {
   "cell_type": "markdown",
   "source": [
    "## Visualization"
   ],
   "metadata": {}
  },
  {
   "cell_type": "markdown",
   "source": [
    "### An layer-by-layer visualization example\n",
    "\n",
    "https://colab.research.google.com/github/lmoroney/dlaicourse/blob/master/Course%201%20-%20Part%208%20-%20Lesson%203%20-%20Notebook.ipynb#scrollTo=-8EHQyWGDvWz"
   ],
   "metadata": {}
  },
  {
   "cell_type": "markdown",
   "source": [
    "### Keras plot_model"
   ],
   "metadata": {}
  },
  {
   "cell_type": "code",
   "execution_count": 2,
   "source": [
    "from tensorflow.python.keras.utils.vis_utils import plot_model\r\n",
    "\r\n",
    "from tensorflow.keras.layers import Input, Flatten, Dense, Dropout, Lambda\r\n",
    "from tensorflow.keras.models import Model\r\n",
    "def initialize_base_network():\r\n",
    "    input = Input(shape=(28,28,), name=\"base_input\")\r\n",
    "    x = Flatten(name=\"flatten_input\")(input)\r\n",
    "    x = Dense(128, activation='relu', name=\"first_base_dense\")(x)\r\n",
    "    x = Dropout(0.1, name=\"first_dropout\")(x)\r\n",
    "    x = Dense(128, activation='relu', name=\"second_base_dense\")(x)\r\n",
    "#     x = Dropout(0.1, name=\"second_dropout\")(x)\r\n",
    "#     x = Dense(128, activation='relu', name=\"third_base_dense\")(x)\r\n",
    "    return Model(inputs=input, outputs=x)\r\n",
    "base_network = initialize_base_network()\r\n",
    "\r\n",
    "plot_model(\r\n",
    "    base_network, show_shapes=True, show_layer_names=True #, to_file='base-model.png'\r\n",
    ")"
   ],
   "outputs": [
    {
     "output_type": "execute_result",
     "data": {
      "text/plain": [
       "<IPython.core.display.Image object>"
      ],
      "image/png": "[encoded data removed]"
     },
     "metadata": {},
     "execution_count": 2
    }
   ],
   "metadata": {}
  },
  {
   "cell_type": "code",
   "execution_count": 25,
   "source": [
    "# \r\n",
    "tf.keras.utils.plot_model(model) "
   ],
   "outputs": [
    {
     "output_type": "execute_result",
     "data": {
      "text/plain": [
       "<IPython.core.display.Image object>"
      ],
      "image/png": "[encoded data removed]"
     },
     "metadata": {
      "tags": []
     },
     "execution_count": 25
    }
   ],
   "metadata": {
    "colab": {
     "base_uri": "https://localhost:8080/",
     "height": 661
    },
    "id": "LKnfuHGfkQXO",
    "outputId": "fa484e77-ccc3-4ae1-a78b-3d806a7a363f"
   }
  },
  {
   "cell_type": "code",
   "execution_count": null,
   "source": [],
   "outputs": [],
   "metadata": {}
  },
  {
   "cell_type": "markdown",
   "source": [
    "### for cifar10"
   ],
   "metadata": {}
  },
  {
   "cell_type": "code",
   "execution_count": null,
   "source": [
    "# extracted from https://colab.research.google.com/drive/1cBsrEczhHzbWawrlNLVL9p9b-7-A68nh#scrollTo=UiokWTuKo88c\r\n",
    "#cifar10\r\n",
    "classes = ['airplane', 'automobile', 'bird', 'cat', 'deer', 'dog', 'frog', 'horse', 'ship', 'truck']\r\n",
    "\r\n",
    "#  Visualization Utilities[RUN ME]\r\n",
    "#Matplotlib config\r\n",
    "plt.rc('image', cmap='gray')\r\n",
    "plt.rc('grid', linewidth=0)\r\n",
    "plt.rc('xtick', top=False, bottom=False, labelsize='large')\r\n",
    "plt.rc('ytick', left=False, right=False, labelsize='large')\r\n",
    "plt.rc('axes', facecolor='F8F8F8', titlesize=\"large\", edgecolor='white')\r\n",
    "plt.rc('text', color='a8151a')\r\n",
    "plt.rc('figure', facecolor='F0F0F0')# Matplotlib fonts\r\n",
    "MATPLOTLIB_FONT_DIR = os.path.join(os.path.dirname(plt.__file__), \"mpl-data/fonts/ttf\")\r\n",
    "# utility to display a row of digits with their predictions\r\n",
    "def display_images(digits, predictions, labels, title):\r\n",
    "\r\n",
    "  n = 10\r\n",
    "\r\n",
    "  indexes = np.random.choice(len(predictions), size=n)\r\n",
    "  n_digits = digits[indexes]\r\n",
    "  n_predictions = predictions[indexes]\r\n",
    "  n_predictions = n_predictions.reshape((n,))\r\n",
    "  n_labels = labels[indexes]\r\n",
    " \r\n",
    "  fig = plt.figure(figsize=(20, 4))\r\n",
    "  plt.title(title)\r\n",
    "  plt.yticks([])\r\n",
    "  plt.xticks([])\r\n",
    "\r\n",
    "  for i in range(10):\r\n",
    "    ax = fig.add_subplot(1, 10, i+1)\r\n",
    "    class_index = n_predictions[i]\r\n",
    "    \r\n",
    "    plt.xlabel(classes[class_index])\r\n",
    "    plt.xticks([])\r\n",
    "    plt.yticks([])\r\n",
    "    plt.imshow(n_digits[i])\r\n",
    "\r\n",
    "# utility to display training and validation curves\r\n",
    "def plot_metrics(metric_name, title, ylim=5):\r\n",
    "  plt.title(title)\r\n",
    "  plt.ylim(0,ylim)\r\n",
    "  plt.plot(history.history[metric_name],color='blue',label=metric_name)\r\n",
    "  plt.plot(history.history['val_' + metric_name],color='green',label='val_' + metric_name)\r\n",
    "\r\n",
    "(training_images, training_labels) , (validation_images, validation_labels) = tf.keras.datasets.cifar10.load_data()\r\n",
    "display_images(training_images, training_labels, training_labels, \"Training Data\" )"
   ],
   "outputs": [],
   "metadata": {}
  },
  {
   "cell_type": "markdown",
   "source": [
    "## Quantization and Pruning"
   ],
   "metadata": {}
  },
  {
   "cell_type": "markdown",
   "source": [
    "- https://colab.research.google.com/drive/1w-2V89seC3emt_sp68tMtco87AdzqwxM#scrollTo=OQFkh5ukiiZE\r\n",
    "    * post-training quantization\r\n",
    "    * quantization aware training\r\n",
    "    * weight pruning"
   ],
   "metadata": {}
  },
  {
   "cell_type": "markdown",
   "source": [
    "## System"
   ],
   "metadata": {}
  },
  {
   "cell_type": "markdown",
   "source": [
    "### Out-of-memory Solution:"
   ],
   "metadata": {}
  },
  {
   "cell_type": "code",
   "execution_count": 1,
   "source": [
    "# to have TensorFlow start out using only a minimum amount of memory and then allocate more as needed\r\n",
    "import os\r\n",
    "os.environ['TF_FORCE_GPU_ALLOW_GROWTH'] = 'true'"
   ],
   "outputs": [],
   "metadata": {}
  },
  {
   "cell_type": "markdown",
   "source": [
    "## Distributed Training "
   ],
   "metadata": {}
  },
  {
   "cell_type": "markdown",
   "source": [
    "### Mirrored Strategy\n",
    "\n",
    "Example:  \n",
    "https://github.com/chen-xin-94/Tensorflow_Advance_Techniques/blob/main/2-custom_and_distributed_training/week-4/C2W4_Assignment.ipynb"
   ],
   "metadata": {}
  },
  {
   "cell_type": "markdown",
   "source": [
    "### on TPU\n",
    "\n",
    "Example:  \n",
    "https://github.com/chen-xin-94/Tensorflow_Advance_Techniques/blob/main/2-custom_and_distributed_training/week-4/C2_W4_Lab_3_using-TPU-strategy.ipynb"
   ],
   "metadata": {}
  },
  {
   "cell_type": "code",
   "execution_count": null,
   "source": [],
   "outputs": [],
   "metadata": {}
  },
  {
   "cell_type": "markdown",
   "source": [
    "## Deployment"
   ],
   "metadata": {}
  },
  {
   "cell_type": "markdown",
   "source": [
    "- https://github.com/https-deeplearning-ai/MLEP-public/blob/main/course1/week1-ungraded-lab/server.ipynb\r\n",
    "    - object detection with cvlib\r\n",
    "    - deploy the model to a server using fastAPI for API and uvicon for server\r\n",
    "    - interaction with \r\n",
    "        - UI: this ipynb\r\n",
    "        - code (python requests): https://github.com/https-deeplearning-ai/MLEP-public/blob/main/course1/week1-ungraded-lab/server.ipynb"
   ],
   "metadata": {}
  }
 ],
 "metadata": {
  "interpreter": {
   "hash": "5d20abe797a5090c394a8610e3bcb1c512bf83420e097ce20e9a6f8830d76d90"
  },
  "kernelspec": {
   "display_name": "Python 3.8.1 64-bit ('liebherr': conda)",
   "name": "python3"
  },
  "language_info": {
   "name": "python",
   "version": ""
  }
 },
 "nbformat": 4,
 "nbformat_minor": 5
}