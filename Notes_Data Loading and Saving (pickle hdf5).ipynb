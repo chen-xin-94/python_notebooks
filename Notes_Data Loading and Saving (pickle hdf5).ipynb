{
 "cells": [
  {
   "source": [
    "# Data Loading and Saving"
   ],
   "cell_type": "markdown",
   "metadata": {}
  },
  {
   "cell_type": "markdown",
   "id": "competent-turkey",
   "metadata": {},
   "source": [
    "## hdf5"
   ]
  },
  {
   "cell_type": "code",
   "execution_count": 1,
   "id": "floating-inclusion",
   "metadata": {},
   "outputs": [],
   "source": [
    "from pathlib import Path\n",
    "import numpy as np\n",
    "import h5py\n",
    "import json"
   ]
  },
  {
   "cell_type": "code",
   "execution_count": 2,
   "id": "defined-formula",
   "metadata": {
    "scrolled": true
   },
   "outputs": [
    {
     "name": "stdout",
     "output_type": "stream",
     "text": [
      "ATTR:\n",
      "<KeysViewHDF5 ['name_lookup', 'name_rev_lookup']>\n",
      "Keys:\n",
      "<KeysViewHDF5 ['S11_LEM1', 'S21_P1_LEM1', 'S21_P2_LEM1', 'S22_LEM1', 'hub1', 'hub2', 'ip1k1', 'ip1k2', 'ip2k1', 'ip2k2', 'k1at', 'k1f', 'k1p', 'k1t', 'k2at', 'k2f', 'k2p', 'k2t', 'phi', 'pos1', 'pos2', 'shub1', 'shub2', 'sk1at', 'sk1f', 'sk1p', 'sk1t', 'sk2at', 'sk2f', 'sk2p', 'sk2t', 'spd1', 'spd2', 'sphi', 'spos1', 'spos2', 'sspd1', 'sspd2', 'stdf', 't', 'tdf']>\n"
     ]
    }
   ],
   "source": [
    "filename_1 = Path(\"C:/LINHC/VersucheDBs/Trelleborg/2021-01-27-V24/2_Phase_A-D/20210127_Phase_A-D_LEM1.h5\")\n",
    "\n",
    "h51 = h5py.File(filename_1, \"r\")\n",
    "\n",
    "print(\"ATTR:\")\n",
    "print(h51.attrs.keys())\n",
    "\n",
    "print(\"Keys:\")\n",
    "print(h51.keys())\n",
    "\n",
    "# frequency index\n",
    "fidx = 20"
   ]
  },
  {
   "cell_type": "code",
   "execution_count": 6,
   "id": "sunrise-repeat",
   "metadata": {},
   "outputs": [
    {
     "data": {
      "text/plain": [
       "(20000,)"
      ]
     },
     "execution_count": 6,
     "metadata": {},
     "output_type": "execute_result"
    }
   ],
   "source": [
    "h51['pos1'][:20000].shape"
   ]
  },
  {
   "cell_type": "code",
   "execution_count": 10,
   "id": "congressional-chancellor",
   "metadata": {},
   "outputs": [
    {
     "name": "stdout",
     "output_type": "stream",
     "text": [
      "ATTR:\n",
      "<KeysViewHDF5 ['name_lookup', 'name_rev_lookup']>\n",
      "Keys:\n",
      "<KeysViewHDF5 ['S11_LEM1', 'S21_P1_LEM1', 'S21_P2_LEM1', 'S22_LEM1', 'hub1', 'hub2', 'ip1k1', 'ip1k2', 'ip2k1', 'ip2k2', 'k1at', 'k1f', 'k1p', 'k1t', 'k2at', 'k2f', 'k2p', 'k2t', 'phi', 'pos1', 'pos2', 'shub1', 'shub2', 'sk1at', 'sk1f', 'sk1p', 'sk1t', 'sk2at', 'sk2f', 'sk2p', 'sk2t', 'spd1', 'spd2', 'sphi', 'spos1', 'spos2', 'sspd1', 'sspd2', 'stdf', 't', 'tdf']>\n"
     ]
    }
   ],
   "source": [
    "# truncate to first 100000 points\n",
    "file = Path(\"C:/LINHC/VersucheDBs/Trelleborg/2021-01-27-V24/2_Phase_A-D/20210127_Phase_A-D_LEM1_100000.h5\")\n",
    "\n",
    "with h5py.File(file, \"w\") as f:\n",
    "    f.attrs[\"name_lookup\"] = h51.attrs[\"name_lookup\"]\n",
    "    f.attrs[\"name_rev_lookup\"] = h51.attrs[\"name_rev_lookup\"]\n",
    "    for key in h51.keys():\n",
    "        f.create_dataset(key, data = h51[key][:100000][:])\n",
    "    print(\"ATTR:\")\n",
    "    print(h51.attrs.keys())\n",
    "    print(\"Keys:\")\n",
    "    print(h51.keys())"
   ]
  },
  {
   "cell_type": "code",
   "execution_count": 11,
   "id": "bright-midwest",
   "metadata": {},
   "outputs": [],
   "source": [
    "f.close()\n"
   ]
  },
  {
   "cell_type": "code",
   "execution_count": null,
   "id": "ultimate-defensive",
   "metadata": {},
   "outputs": [],
   "source": [
    "# save the file as hdf5\n",
    "\n",
    "file = r'C:\\LINHC\\VersucheDBs\\Trelleborg\\test\\training.h5'\n",
    "\n",
    "with h5py.File(file, 'w') as f:\n",
    "    setup = f.create_group(\"setup\")\n",
    "    liview = f.create_group(\"liview\")\n",
    "    ref = f.create_group(\"ref\")\n",
    "    \n",
    "    liview.create_dataset('s21',data=np.array(s21).reshape(121,-1))\n",
    "    \n",
    "    for feature in features_setup:\n",
    "        tmp = np.array(eval(feature)).reshape(-1)\n",
    "        setup.create_dataset(feature,data=tmp)\n",
    "        \n",
    "    for gt in ground_truths:\n",
    "        tmp = np.array(eval(gt)).reshape(-1)\n",
    "        ref.create_dataset(gt,data=tmp)\n",
    "        \n",
    "    feature_lookup={}\n",
    "    for j in range(242):\n",
    "        if j%2 == 0:\n",
    "            key = 's21-'+str(j//2)+'-real'\n",
    "        else:\n",
    "            key = 's21-'+str(j//2)+'-imag'\n",
    "        feature_lookup[key] = j\n",
    "    \n",
    "    i = 242\n",
    "    for key in setup.keys():\n",
    "        feature_lookup[key] = i\n",
    "        i += 1\n",
    "\n",
    "    f.attrs[\"feature_lookup\"] = json.dumps(feature_lookup)     \n",
    "    \n",
    "    f.attrs[\"name_lookup_rev\"] = h51.attrs[\"name_rev_lookup\"]"
   ]
  },
  {
   "cell_type": "code",
   "execution_count": null,
   "id": "certified-hormone",
   "metadata": {},
   "outputs": [],
   "source": [
    "h51.close()"
   ]
  },
  {
   "cell_type": "code",
   "execution_count": null,
   "id": "filled-sculpture",
   "metadata": {},
   "outputs": [],
   "source": [
    "## Read all the training data and labels from h5 files\n",
    "file = r'C:\\LINHC\\VersucheDBs\\Trelleborg\\test\\training.h5'\n",
    "f = h5py.File(file, 'r')\n",
    "print(\"ATTR:\")\n",
    "print(f.attrs.keys())\n",
    "print(\"Keys:\")\n",
    "print(f.keys())\n",
    "\n",
    "setup = f['setup']\n",
    "s21 = f['liview']['s21']\n",
    "\n",
    "dataset = []\n",
    "for i in range(121):\n",
    "    dataset.append(s21[i].real)\n",
    "    dataset.append(s21[i].imag)\n",
    "for value in setup.values():\n",
    "    dataset.append(np.asarray(value))\n",
    "    \n",
    "X = np.asarray(dataset).T\n",
    "y = np.asarray(f['ref']['pos1'])\n",
    "print(\"X:\")\n",
    "print(X.shape)\n",
    "print(\"y:\")\n",
    "print(y.shape)"
   ]
  },
  {
   "cell_type": "markdown",
   "id": "animal-sunset",
   "metadata": {},
   "source": [
    "## pickle"
   ]
  },
  {
   "cell_type": "code",
   "execution_count": 28,
   "id": "pacific-director",
   "metadata": {},
   "outputs": [],
   "source": [
    "import pickle"
   ]
  },
  {
   "cell_type": "code",
   "execution_count": 30,
   "id": "invisible-reception",
   "metadata": {},
   "outputs": [],
   "source": [
    "data = {\n",
    "    \"KEY 1\": VALUE 1,\n",
    "    \"KEY 2\" : VALUE 2,\n",
    "    ....\n",
    "}\n",
    "pickle.dump(data, open( \"FILENAME\", \"wb\" ) )"
   ]
  },
  {
   "cell_type": "code",
   "execution_count": 27,
   "id": "designing-durham",
   "metadata": {
    "scrolled": true
   },
   "outputs": [
    {
     "data": {
      "text/plain": [
       "<bound method File.close of <HDF5 file \"test.hdf5\" (mode r+)>>"
      ]
     },
     "execution_count": 27,
     "metadata": {},
     "output_type": "execute_result"
    }
   ],
   "source": [
    "pickle.load( open( \"FILENAME\", \"rb\" ) )"
   ]
  }
 ],
 "metadata": {
  "kernelspec": {
   "display_name": "Python 3",
   "language": "python",
   "name": "python3"
  },
  "language_info": {
   "codemirror_mode": {
    "name": "ipython",
    "version": 3
   },
   "file_extension": ".py",
   "mimetype": "text/x-python",
   "name": "python",
   "nbconvert_exporter": "python",
   "pygments_lexer": "ipython3",
   "version": "3.8.1"
  }
 },
 "nbformat": 4,
 "nbformat_minor": 5
}